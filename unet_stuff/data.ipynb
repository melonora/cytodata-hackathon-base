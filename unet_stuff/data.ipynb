{
 "cells": [
  {
   "cell_type": "code",
   "execution_count": 9,
   "id": "9a37f5ae-f284-49f0-9f49-8a567b4f35c3",
   "metadata": {},
   "outputs": [],
   "source": [
    "import numpy as np\n",
    "import pandas as pd\n",
    "from aicsimageprocessing import read_ome_zarr\n",
    "from aicsimageio import transforms, AICSImage\n",
    "import matplotlib.pyplot as plt\n",
    "from serotiny.transforms.dataframe.transforms import split_dataframe\n",
    "from pathlib import Path"
   ]
  },
  {
   "cell_type": "code",
   "execution_count": 2,
   "id": "17069325-eae8-41f2-b38f-ba0fffac83fd",
   "metadata": {},
   "outputs": [],
   "source": [
    "# Set seed for dataloader\n",
    "np.random.seed(42)"
   ]
  },
  {
   "cell_type": "code",
   "execution_count": 3,
   "id": "28263126-fd9a-4ae8-bca6-14982bef8489",
   "metadata": {},
   "outputs": [
    {
     "name": "stdout",
     "output_type": "stream",
     "text": [
      "Number of cells: 214037\n",
      "Number of columns: 77\n"
     ]
    }
   ],
   "source": [
    "df = pd.read_parquet(\"s3://allencell-hipsc-cytodata/hackathon_manifest_17oct2022.parquet\")\n",
    "print(f'Number of cells: {len(df)}')\n",
    "print(f'Number of columns: {len(df.columns)}')"
   ]
  },
  {
   "cell_type": "code",
   "execution_count": 4,
   "id": "a6eae430-772c-4372-b7c5-f64ae770e1bc",
   "metadata": {},
   "outputs": [
    {
     "name": "stdout",
     "output_type": "stream",
     "text": [
      "Number of cells: 184328\n"
     ]
    }
   ],
   "source": [
    "df_sub_fit = df[(df['fits_x']==True) &\n",
    "               (df['fits_y']==True) &\n",
    "               (df['fits_z']==True)\n",
    "              ]\n",
    "print(f'Number of cells: {len(df_sub_fit)}')"
   ]
  },
  {
   "cell_type": "code",
   "execution_count": 5,
   "id": "b435a3ca-6aa3-4574-b201-d2a83fa22ff7",
   "metadata": {},
   "outputs": [
    {
     "name": "stdout",
     "output_type": "stream",
     "text": [
      "Number of cells: 180472\n"
     ]
    }
   ],
   "source": [
    "df_sub_fit_center = df_sub_fit[df_sub_fit['edge_flag'] == 0]\n",
    "print(f'Number of cells: {len(df_sub_fit_center)}')"
   ]
  },
  {
   "cell_type": "code",
   "execution_count": 6,
   "id": "50b891b4-cbba-4762-a839-5abd989a3c44",
   "metadata": {},
   "outputs": [
    {
     "name": "stdout",
     "output_type": "stream",
     "text": [
      "Number of cells: 176936\n"
     ]
    }
   ],
   "source": [
    "dataset = df_sub_fit_center.drop(df_sub_fit_center[df_sub_fit_center['cell_stage']=='M6M7_single'].index)\n",
    "print(f'Number of cells: {len(dataset)}')"
   ]
  },
  {
   "cell_type": "code",
   "execution_count": 7,
   "id": "f295540e-719b-41d5-aca3-6c261cb9b7a9",
   "metadata": {},
   "outputs": [
    {
     "data": {
      "text/plain": [
       "mitochondria          20681\n",
       "nuclear pores         15521\n",
       "histones              14123\n",
       "nuclear envelope      10773\n",
       "nucleoli (GC)         10305\n",
       "ER (SERCA2)            9352\n",
       "lysosomes              8736\n",
       "nucleoli (DFC)         8432\n",
       "desmosomes             8169\n",
       "microtubules           7679\n",
       "plasma membrane        6846\n",
       "actin bundles          6474\n",
       "centrioles             5884\n",
       "gap junctions          5214\n",
       "Golgi                  5207\n",
       "actomyosin bundles     5162\n",
       "adherens junctions     4955\n",
       "ER (Sec61 beta)        4929\n",
       "tight junctions        4552\n",
       "matrix adhesions       2925\n",
       "actin filaments        2804\n",
       "nuclear speckles       2321\n",
       "endosomes              2098\n",
       "cohesins               2085\n",
       "peroxisomes            1709\n",
       "Name: Structure, dtype: int64"
      ]
     },
     "execution_count": 7,
     "metadata": {},
     "output_type": "execute_result"
    }
   ],
   "source": [
    "dataset['Structure'].value_counts()\n"
   ]
  },
  {
   "cell_type": "code",
   "execution_count": 22,
   "id": "4a0189a9-e23a-4cd0-965a-c1ab16953098",
   "metadata": {},
   "outputs": [
    {
     "name": "stdout",
     "output_type": "stream",
     "text": [
      "mitochondria\n"
     ]
    },
    {
     "name": "stderr",
     "output_type": "stream",
     "text": [
      "/opt/conda/lib/python3.10/site-packages/serotiny/transforms/dataframe/transforms.py:59: SettingWithCopyWarning: \n",
      "A value is trying to be set on a copy of a slice from a DataFrame.\n",
      "Try using .loc[row_indexer,col_indexer] = value instead\n",
      "\n",
      "See the caveats in the documentation: https://pandas.pydata.org/pandas-docs/stable/user_guide/indexing.html#returning-a-view-versus-a-copy\n",
      "  dataframe.loc[train_ix, \"split\"] = \"train\"\n"
     ]
    },
    {
     "name": "stdout",
     "output_type": "stream",
     "text": [
      "nucleoli\n"
     ]
    },
    {
     "name": "stderr",
     "output_type": "stream",
     "text": [
      "/opt/conda/lib/python3.10/site-packages/serotiny/transforms/dataframe/transforms.py:59: SettingWithCopyWarning: \n",
      "A value is trying to be set on a copy of a slice from a DataFrame.\n",
      "Try using .loc[row_indexer,col_indexer] = value instead\n",
      "\n",
      "See the caveats in the documentation: https://pandas.pydata.org/pandas-docs/stable/user_guide/indexing.html#returning-a-view-versus-a-copy\n",
      "  dataframe.loc[train_ix, \"split\"] = \"train\"\n"
     ]
    },
    {
     "name": "stdout",
     "output_type": "stream",
     "text": [
      "microtubules\n"
     ]
    },
    {
     "name": "stderr",
     "output_type": "stream",
     "text": [
      "/opt/conda/lib/python3.10/site-packages/serotiny/transforms/dataframe/transforms.py:59: SettingWithCopyWarning: \n",
      "A value is trying to be set on a copy of a slice from a DataFrame.\n",
      "Try using .loc[row_indexer,col_indexer] = value instead\n",
      "\n",
      "See the caveats in the documentation: https://pandas.pydata.org/pandas-docs/stable/user_guide/indexing.html#returning-a-view-versus-a-copy\n",
      "  dataframe.loc[train_ix, \"split\"] = \"train\"\n"
     ]
    },
    {
     "name": "stdout",
     "output_type": "stream",
     "text": [
      "plasma_membrane\n"
     ]
    },
    {
     "name": "stderr",
     "output_type": "stream",
     "text": [
      "/opt/conda/lib/python3.10/site-packages/serotiny/transforms/dataframe/transforms.py:59: SettingWithCopyWarning: \n",
      "A value is trying to be set on a copy of a slice from a DataFrame.\n",
      "Try using .loc[row_indexer,col_indexer] = value instead\n",
      "\n",
      "See the caveats in the documentation: https://pandas.pydata.org/pandas-docs/stable/user_guide/indexing.html#returning-a-view-versus-a-copy\n",
      "  dataframe.loc[train_ix, \"split\"] = \"train\"\n"
     ]
    },
    {
     "name": "stdout",
     "output_type": "stream",
     "text": [
      "actin_filaments\n"
     ]
    },
    {
     "name": "stderr",
     "output_type": "stream",
     "text": [
      "/opt/conda/lib/python3.10/site-packages/serotiny/transforms/dataframe/transforms.py:59: SettingWithCopyWarning: \n",
      "A value is trying to be set on a copy of a slice from a DataFrame.\n",
      "Try using .loc[row_indexer,col_indexer] = value instead\n",
      "\n",
      "See the caveats in the documentation: https://pandas.pydata.org/pandas-docs/stable/user_guide/indexing.html#returning-a-view-versus-a-copy\n",
      "  dataframe.loc[train_ix, \"split\"] = \"train\"\n"
     ]
    },
    {
     "name": "stdout",
     "output_type": "stream",
     "text": [
      "done\n"
     ]
    }
   ],
   "source": [
    "# Create dataset csvs of different structures\n",
    "Path(\"/home/aicsuser/serotiny_data/\").mkdir(parents=True, exist_ok=True)\n",
    "mitochondria = dataset[dataset['Structure'] == 'mitochondria']\n",
    "nucleoli = dataset[dataset['Structure'] == 'nucleoli (GC)']\n",
    "microtubules = dataset[dataset['Structure'] == 'microtubules']\n",
    "plasma_membrane = dataset[dataset['Structure'] == 'plasma membrane']\n",
    "actin_filaments = dataset[dataset['Structure'] == 'actin filaments']\n",
    "\n",
    "datasets = [mitochondria, nucleoli, microtubules, plasma_membrane, actin_filaments]\n",
    "structures = ['mitochondria', 'nucleoli', 'microtubules', 'plasma_membrane', 'actin_filaments']\n",
    "for i, data in enumerate(datasets):\n",
    "    print(structures[i])\n",
    "    x = split_dataframe(dataframe=data, train_frac=0.7, val_frac=0.2, return_splits=False)\n",
    "    x.to_csv(f\"/home/aicsuser/serotiny_data/{structures[i]}.csv\")\n",
    "all_combi = pd.concat([mitochondria, nucleoli, microtubules,plasma_membrane])\n",
    "x = split_dataframe(dataframe=all_combi, train_frac=0.7, val_frac=0.2, return_splits=False)\n",
    "x.to_csv(f\"/home/aicsuser/serotiny_data/combined.csv\")\n",
    "print('done')"
   ]
  },
  {
   "cell_type": "markdown",
   "id": "6e159264-6f6a-47fb-bc97-963db7989759",
   "metadata": {},
   "source": [
    "stratify on structure"
   ]
  },
  {
   "cell_type": "markdown",
   "id": "2db8cb22-e3cb-4300-9fca-a7853d88a338",
   "metadata": {},
   "source": [
    "['bf',\n",
    " 'dna',\n",
    " 'membrane',\n",
    " 'structure',\n",
    " 'dna_segmentation',\n",
    " 'membrane_segmentation',\n",
    " 'struct_segmentation_roof']"
   ]
  }
 ],
 "metadata": {
  "kernelspec": {
   "display_name": "Python 3 (ipykernel)",
   "language": "python",
   "name": "python3"
  },
  "language_info": {
   "codemirror_mode": {
    "name": "ipython",
    "version": 3
   },
   "file_extension": ".py",
   "mimetype": "text/x-python",
   "name": "python",
   "nbconvert_exporter": "python",
   "pygments_lexer": "ipython3",
   "version": "3.10.6"
  }
 },
 "nbformat": 4,
 "nbformat_minor": 5
}
