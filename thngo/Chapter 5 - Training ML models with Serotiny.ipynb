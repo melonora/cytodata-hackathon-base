{
 "cells": [
  {
   "cell_type": "markdown",
   "id": "26bed1c8-fc44-4369-b188-4170a5b9e017",
   "metadata": {
    "tags": []
   },
   "source": [
    "# 5 Training ML models with Serotiny\n",
    "**Estimated time to run through notebook is 20 minutes** \n",
    "\n",
    "This notebook shows how to\n",
    "-  [Load libraries, predefine some functions, and load the manifest ](#preprocessing) \n",
    "-  [5.1 Parametrize a ML task using serotiny's yamls](#param)\n",
    "-  [5.2 Train a classification model based on 2D images](#train)\n",
    "-  [5.3 Load and apply a trained model](#apply)\n",
    "-  [5.4 Train a classification model based on 3D images](#train3D)\n",
    "-  [Conclusion](#end)"
   ]
  },
  {
   "cell_type": "markdown",
   "id": "88af942f-9677-4d14-8435-4e9b957c77fe",
   "metadata": {
    "jp-MarkdownHeadingCollapsed": true,
    "tags": []
   },
   "source": [
    "#### Resources \n",
    "- Serotiny code: https://github.com/AllenCell/serotiny\n",
    "- Serotiny documentation: https://allencell.github.io/serotiny\n",
    "- Hydra for configurability https://hydra.cc/\n",
    "- MLFlow for experiment tracking https://mlflow.org/\n",
    "- Pytorch Lightning for DL training/testing/predictions https://pytorchlightning.ai/"
   ]
  },
  {
   "cell_type": "markdown",
   "id": "a358f163-99ee-4499-a22d-5435ed82ca09",
   "metadata": {
    "tags": []
   },
   "source": [
    "## <a id='preprocessing'></a>Load libraries, predefine some functions, and load the manifest \n"
   ]
  },
  {
   "cell_type": "markdown",
   "id": "e89c2d81-b881-4e35-8dc6-1ee0601ae810",
   "metadata": {
    "tags": []
   },
   "source": [
    "### Load libraries and predefined functions"
   ]
  },
  {
   "cell_type": "code",
   "execution_count": 1,
   "id": "67c64fb0-0d8f-418f-ba71-8d4c6c0ef01a",
   "metadata": {
    "tags": []
   },
   "outputs": [
    {
     "name": "stderr",
     "output_type": "stream",
     "text": [
      "19-Oct-22 23:09:04 - bfio.backends - WARNING  - Java backend is not available. This could be due to a missing dependency (jpype).\n"
     ]
    }
   ],
   "source": [
    "from upath import UPath as Path\n",
    "import pandas as pd\n",
    "import numpy as np\n",
    "import matplotlib.pyplot as plt\n",
    "import seaborn as sns\n",
    "import nbvv\n",
    "\n",
    "from serotiny.io.image import image_loader\n",
    "from cytodata_aics.io_utils import rescale_image"
   ]
  },
  {
   "cell_type": "markdown",
   "id": "c71bf68c-4d83-416b-a832-ffde659ec89b",
   "metadata": {
    "tags": []
   },
   "source": [
    "### Load the manifest and explore dimensions"
   ]
  },
  {
   "cell_type": "code",
   "execution_count": 2,
   "id": "6146df3c-d6e2-45f1-a27e-3619ed42943d",
   "metadata": {
    "tags": []
   },
   "outputs": [
    {
     "name": "stdout",
     "output_type": "stream",
     "text": [
      "Number of cells: 214037\n",
      "Number of columns: 77\n"
     ]
    }
   ],
   "source": [
    "df = pd.read_parquet(\"s3://allencell-hipsc-cytodata/hackathon_manifest_17oct2022.parquet\")\n",
    "print(f'Number of cells: {len(df)}')\n",
    "print(f'Number of columns: {len(df.columns)}')"
   ]
  },
  {
   "cell_type": "markdown",
   "id": "8e3c629f-0095-4c71-a3ce-8bfc04dd2eb6",
   "metadata": {
    "tags": []
   },
   "source": [
    "## <a id='param'></a>5.1 Parametrize a ML task using serotiny's yamls"
   ]
  },
  {
   "cell_type": "markdown",
   "id": "97c935e8-b8df-43f7-b869-ff3e2d6621d7",
   "metadata": {
    "jp-MarkdownHeadingCollapsed": true,
    "tags": []
   },
   "source": [
    "`serotiny` is a Python package and framework to help you create configurable and reproducible DL projects. It uses [hydra](https://hydra.cc/) for configurability, [MLFlow](https://mlflow.org/) for experiment tracking,\n",
    "and [Pytorch Lightning](https://pytorchlightning.ai/) for DL model training/testing/predictions.\n",
    "\n",
    "### Project structure\n",
    "With `serotiny` a DL project has a predefined structure (which this repo already complies with). To start a new project with the appropriate structure, you can use the [serotiny-project cookiecutter](https://github.com/allencellmodeling/serotiny-project-cookiecutter)\n",
    "\n",
    "A serotiny project contains a Python package, and a config folder. This config folder is composed of 5 config groups:\n",
    "\n",
    "<img src=\"resources/serotiny.png\" width=\"700\"/>\n",
    "\n",
    "\n",
    "### `serotiny` commands\n",
    "Aside from the predefined structure and config folder, `serotiny` has set of commands which know how to read a project's configuration (and override it)\n",
    "and execute DL tasks.\n",
    "\n",
    "For example, we could train a model using the a model config called `my_classifier` (which would live in `config/model/my_classifier.yaml`), and a data config\n",
    "called `my_train_data` (which would live in `config/data/my_train_data.yaml`) and overriding some of the `mlflow` config parameters.\n",
    "<br><small>Note: Because we didn't specify a top-level `mlflow` config, i.e. we didn't do `mlflow=...`, `serotiny` will use the default config, which lives in `config/mlflow/default.yaml`</small>\n",
    "\n",
    "```\n",
    "$ serotiny train model=my_classifier data=my_train_data mlflow.experiment_name=some_experiment mlflow.run_name=1st_run\n",
    "```\n",
    "\n",
    "Once the model finishes training, we could use it to make predictions on a different dataset, configured in `my_predict_data`\n",
    "\n",
    "```\n",
    "$ serotiny predict model=my_classifier data=my_predict_data mlflow.experiment_name=some_experiment mlflow.run_name=1st_run\n",
    "```\n"
   ]
  },
  {
   "cell_type": "markdown",
   "id": "4ef028e9-9865-4d05-86c4-a8681e938d0b",
   "metadata": {
    "tags": []
   },
   "source": [
    "## <a id='train'></a>5.2 Train a classification model based on 2D images\n"
   ]
  },
  {
   "cell_type": "markdown",
   "id": "7c96afa7-d31c-4f67-9f76-0736439342eb",
   "metadata": {
    "tags": []
   },
   "source": [
    "### Make a simple dataset of edge vs. non-edge cells"
   ]
  },
  {
   "cell_type": "code",
   "execution_count": 3,
   "id": "137c8837-2b7c-408c-af79-bd2b12798e84",
   "metadata": {},
   "outputs": [
    {
     "name": "stdout",
     "output_type": "stream",
     "text": [
      "Number of cells: 2000\n",
      "Number of columns: 78\n"
     ]
    }
   ],
   "source": [
    "from serotiny.transforms.dataframe.transforms import split_dataframe\n",
    "\n",
    "Path(\"/home/aicsuser/serotiny_data/\").mkdir(parents=True, exist_ok=True)\n",
    "\n",
    "n = 1000 # number of cells per class\n",
    "cells_edgeVSnoedge = df.groupby(\"edge_flag\").sample(n)\n",
    "\n",
    "# Add the train, test and validate split\n",
    "cells_edgeVSnoedge = split_dataframe(dataframe=cells_edgeVSnoedge, train_frac=0.7, val_frac=0.2, return_splits=False)\n",
    "\n",
    "cells_edgeVSnoedge.to_csv(\"/home/aicsuser/serotiny_data/cells_edgeVSnoedge.csv\") \n",
    "print(f\"Number of cells: {len(cells_edgeVSnoedge)}\")\n",
    "print(f\"Number of columns: {len(cells_edgeVSnoedge.columns)}\")"
   ]
  },
  {
   "cell_type": "markdown",
   "id": "351b7276-7be3-460a-bf0f-b3d63075fa2d",
   "metadata": {},
   "source": [
    "### Parametrize the data and model configurations"
   ]
  },
  {
   "cell_type": "markdown",
   "id": "eb247cdd-4d37-4b5f-a727-119cec421cdd",
   "metadata": {
    "tags": []
   },
   "source": [
    "#### `data` config"
   ]
  },
  {
   "cell_type": "markdown",
   "id": "410cdbc5-ad58-4fdc-9f97-0575472ee3cd",
   "metadata": {},
   "source": [
    "```yaml\n",
    "_target_: serotiny.datamodules.ManifestDatamodule\n",
    "\n",
    "path: /home/aicsuser/serotiny_data/cells_edgeVSnoedge.csv\n",
    "\n",
    "batch_size: 64\n",
    "num_workers: 1\n",
    "loaders:\n",
    "  id:\n",
    "    _target_: serotiny.io.dataframe.loaders.LoadColumn\n",
    "    column: CellId\n",
    "    dtype: int\n",
    "  class:\n",
    "    _target_: serotiny.io.dataframe.loaders.LoadColumn\n",
    "    column: edge_flag\n",
    "    dtype: float32\n",
    "  image:\n",
    "    _target_: serotiny.io.dataframe.loaders.LoadImage\n",
    "    column: max_projection_z\n",
    "    select_channels: ['membrane']  \n",
    "    \n",
    "split_column: \"split\"\n",
    "```"
   ]
  },
  {
   "cell_type": "markdown",
   "id": "566cb649-787f-4457-8e63-2b47fe52e0b5",
   "metadata": {
    "tags": []
   },
   "source": [
    "#### `model` config"
   ]
  },
  {
   "cell_type": "markdown",
   "id": "28d5f48f-47a4-4e5b-9275-bb4aa96ea34b",
   "metadata": {},
   "source": [
    "```yaml\n",
    "_target_: serotiny.models.BasicModel\n",
    "x_label: image\n",
    "y_label: class\n",
    "network:\n",
    "  _target_: torch.nn.Sequential\n",
    "  _args_:\n",
    "    # conv block 1\n",
    "    - _target_: torch.nn.LazyConv2d\n",
    "      out_channels: 4\n",
    "      kernel_size: 3\n",
    "      stride: 1\n",
    "    - _target_: torch.nn.LeakyReLU\n",
    "    - _target_: torch.nn.LazyBatchNorm2d\n",
    "\n",
    "    # conv block 2\n",
    "    - _target_: torch.nn.LazyConv2d\n",
    "      out_channels: 4\n",
    "      kernel_size: 3\n",
    "      stride: 1\n",
    "    - _target_: torch.nn.LeakyReLU\n",
    "    - _target_: torch.nn.LazyBatchNorm2d\n",
    "    \n",
    "    # conv block 3\n",
    "    - _target_: torch.nn.LazyConv2d\n",
    "      out_channels: 4\n",
    "      kernel_size: 3\n",
    "      stride: 1\n",
    "    - _target_: torch.nn.LeakyReLU\n",
    "    - _target_: torch.nn.LazyBatchNorm2d\n",
    "\n",
    "    # flatten and feed through linear layer\n",
    "    - _target_: serotiny.networks.layers.Flatten\n",
    "    - _target_: torch.nn.LazyLinear\n",
    "      out_features: 1\n",
    "    - _target_: torch.nn.Sigmoid\n",
    "    \n",
    "loss:\n",
    "  _target_: torch.nn.BCELoss\n",
    "  \n",
    "# a function used by `serotiny predict` to store the results of feeding data through the model\n",
    "save_predictions:\n",
    "  _target_: cytodata_aics.model_utils.save_predictions_classifier\n",
    "  _partial_: true\n",
    "\n",
    "# fields to include in the output for each batch\n",
    "fields_to_log:\n",
    "  - id\n",
    " \n",
    "```"
   ]
  },
  {
   "cell_type": "markdown",
   "id": "15bb1951-2c90-47d5-beaf-4dca07dfef0f",
   "metadata": {
    "tags": []
   },
   "source": [
    "#### `trainer`, `trainer/callbacks` and `mlflow`"
   ]
  },
  {
   "cell_type": "markdown",
   "id": "6ea633e9-5c2e-4a68-a20a-a35527eb2f91",
   "metadata": {},
   "source": [
    "We provided sensible defaults to these config sections, but invite and recommend you to take a look at them and change them as you see fit\n",
    "(in `/home/aicsuser/cytodata-hackathon-base/cytodata_aics/config/...`)"
   ]
  },
  {
   "cell_type": "markdown",
   "id": "1844f1b1-81d1-4a5b-adee-e2652763e6d1",
   "metadata": {},
   "source": [
    "#### Changing the working directory"
   ]
  },
  {
   "cell_type": "code",
   "execution_count": 4,
   "id": "5d470202-420d-471e-a16c-840d4e6d6c0b",
   "metadata": {},
   "outputs": [],
   "source": [
    "# we need the commands we type to be ran from the serotiny project root\n",
    "# (because that's what `serotiny` expects) so we change directories here,\n",
    "# so we can run commands within the notebook\n",
    "import os\n",
    "os.chdir(\"/home/aicsuser/cytodata-hackathon-base\")"
   ]
  },
  {
   "cell_type": "markdown",
   "id": "c1c4b036-1806-4039-9796-c14fa172eaa3",
   "metadata": {},
   "source": [
    "#### Creating a run name based on the current date and time"
   ]
  },
  {
   "cell_type": "code",
   "execution_count": 5,
   "id": "f314aeaa-d1de-483e-a675-7da4e92e0b7b",
   "metadata": {},
   "outputs": [],
   "source": [
    "from datetime import datetime\n",
    "\n",
    "# util to avoid referring to the same run unintentionally\n",
    "now_str = lambda : datetime.now().strftime(\"%Y%m%d_%H%M%S\")"
   ]
  },
  {
   "cell_type": "markdown",
   "id": "56111725-48c4-4731-ad17-322ea62f8196",
   "metadata": {},
   "source": [
    "#### Starting a training. Track the training at http://mlflow.cytodata.allencell.org/"
   ]
  },
  {
   "cell_type": "code",
   "execution_count": 6,
   "id": "90f90e95-ac6a-4995-8c5f-b2f269153afd",
   "metadata": {
    "tags": []
   },
   "outputs": [
    {
     "name": "stdout",
     "output_type": "stream",
     "text": [
      "theo_bfdna_xproj_20221019_230907\n",
      "[2022-10-19 23:09:11,537][pytorch_lightning.utilities.seed][INFO] - Global seed set to 42\n",
      "[2022-10-19 23:09:11,538][serotiny.ml_ops.ml_ops][INFO] - Instantiating datamodule\n",
      "[2022-10-19 23:09:13,788][serotiny.ml_ops.ml_ops][INFO] - Instantiating trainer\n",
      "[2022-10-19 23:09:13,821][pytorch_lightning.utilities.rank_zero][INFO] - GPU available: True, used: True\n",
      "[2022-10-19 23:09:13,821][pytorch_lightning.utilities.rank_zero][INFO] - TPU available: False, using: 0 TPU cores\n",
      "[2022-10-19 23:09:13,821][pytorch_lightning.utilities.rank_zero][INFO] - IPU available: False, using: 0 IPUs\n",
      "[2022-10-19 23:09:13,822][pytorch_lightning.utilities.rank_zero][INFO] - HPU available: False, using: 0 HPUs\n",
      "[2022-10-19 23:09:13,822][serotiny.ml_ops.ml_ops][INFO] - Instantiating model\n",
      "/opt/conda/lib/python3.10/site-packages/torch/nn/modules/lazy.py:178: UserWarning: Lazy modules are a new feature under heavy development so changes to the API or functionality can happen at any moment.\n",
      "  warnings.warn('Lazy modules are a new feature under heavy development '\n",
      "[2022-10-19 23:09:13,877][torch.distributed.nn.jit.instantiator][INFO] - Created a temporary directory at /tmp/tmptu8_7q7_\n",
      "[2022-10-19 23:09:13,877][torch.distributed.nn.jit.instantiator][INFO] - Writing /tmp/tmptu8_7q7_/_remote_module_non_scriptable.py\n",
      "[2022-10-19 23:09:14,038][serotiny.ml_ops.mlflow_utils][INFO] - Validating and processing MLFlow configuration\n",
      "/opt/conda/lib/python3.10/site-packages/serotiny/ml_ops/mlflow_utils.py:156: FutureWarning: ``mlflow.tracking.fluent.list_run_infos`` is deprecated. This method will be removed in a future release. Use ``search_runs()`` instead.\n",
      "  for run_info in mlflow.list_run_infos(experiment_id=experiment_id):\n",
      "/opt/conda/lib/python3.10/site-packages/mlflow/tracking/fluent.py:1599: FutureWarning: ``mlflow.tracking.client.MlflowClient.list_run_infos`` is deprecated. This method will be removed in a future release. Use ``search_runs()`` instead.\n",
      "  return MlflowClient().list_run_infos(\n",
      "[2022-10-19 23:09:18,125][serotiny.ml_ops.mlflow_utils][INFO] - Calling trainer.fit\n",
      "[2022-10-19 23:09:20,626][pytorch_lightning.accelerators.gpu][INFO] - LOCAL_RANK: 0 - CUDA_VISIBLE_DEVICES: [0]\n",
      "/opt/conda/lib/python3.10/site-packages/pytorch_lightning/utilities/model_summary.py:407: UserWarning: A layer with UninitializedParameter was found. Thus, the total number of parameters detected may be inaccurate.\n",
      "  warning_cache.warn(\n",
      "[2022-10-19 23:09:20,629][pytorch_lightning.callbacks.model_summary][INFO] - \n",
      "  | Name    | Type       | Params\n",
      "---------------------------------------\n",
      "0 | network | Sequential | 0     \n",
      "1 | loss    | BCELoss    | 0     \n",
      "---------------------------------------\n",
      "0         Trainable params\n",
      "0         Non-trainable params\n",
      "0         Total params\n",
      "0.000     Total estimated model params size (MB)\n",
      "Epoch 0:  76%|████████████████▋     | 22/29 [01:46<00:33,  4.85s/it, loss=0.717]\n",
      "Epoch 0:  76%|████████████████▋     | 22/29 [02:01<00:38,  5.54s/it, loss=0.717]\n",
      "Validation:   0%|                                         | 0/7 [00:00<?, ?it/s]\u001b[A\n",
      "Validation DataLoader 0:   0%|                            | 0/7 [00:00<?, ?it/s]\u001b[A\n",
      "Epoch 0:  79%|█████████████████▍    | 23/29 [02:12<00:34,  5.75s/it, loss=0.717]\u001b[A\n",
      "Epoch 0:  83%|██████████████████▏   | 24/29 [02:12<00:27,  5.51s/it, loss=0.717]\u001b[A\n",
      "Epoch 0:  86%|██████████████████▉   | 25/29 [02:12<00:21,  5.29s/it, loss=0.717]\u001b[A\n",
      "Epoch 0:  90%|███████████████████▋  | 26/29 [02:12<00:15,  5.09s/it, loss=0.717]\u001b[A\n",
      "Epoch 0:  93%|████████████████████▍ | 27/29 [02:12<00:09,  4.90s/it, loss=0.717]\u001b[A\n",
      "Epoch 0:  97%|█████████████████████▏| 28/29 [02:12<00:04,  4.72s/it, loss=0.717]\u001b[A\n",
      "Validation DataLoader 0: 100%|████████████████████| 7/7 [00:05<00:00,  1.38it/s]\u001b[A\n",
      "Epoch 0: 100%|██████████████████████| 29/29 [02:17<00:00,  4.73s/it, loss=0.717]\u001b[A\n",
      "Epoch 1:  76%|████████████████▋     | 22/29 [01:27<00:27,  3.98s/it, loss=0.655]\u001b[A\n",
      "Validation: 0it [00:00, ?it/s]\u001b[A\n",
      "Validation:   0%|                                         | 0/7 [00:00<?, ?it/s]\u001b[A\n",
      "Validation DataLoader 0:   0%|                            | 0/7 [00:00<?, ?it/s]\u001b[A\n",
      "Epoch 1:  79%|█████████████████▍    | 23/29 [01:50<00:28,  4.81s/it, loss=0.655]\u001b[A\n",
      "Epoch 1:  83%|██████████████████▏   | 24/29 [01:50<00:23,  4.61s/it, loss=0.655]\u001b[A\n",
      "Epoch 1:  86%|██████████████████▉   | 25/29 [01:50<00:17,  4.43s/it, loss=0.655]\u001b[A\n",
      "Epoch 1:  90%|███████████████████▋  | 26/29 [01:50<00:12,  4.26s/it, loss=0.655]\u001b[A\n",
      "Epoch 1:  93%|████████████████████▍ | 27/29 [01:50<00:08,  4.10s/it, loss=0.655]\u001b[A\n",
      "Epoch 1:  97%|█████████████████████▏| 28/29 [01:50<00:03,  3.96s/it, loss=0.655]\u001b[A\n",
      "Validation DataLoader 0: 100%|████████████████████| 7/7 [00:04<00:00,  1.49it/s]\u001b[A\n",
      "Epoch 1: 100%|██████████████████████| 29/29 [01:55<00:00,  3.98s/it, loss=0.655]\u001b[A\n",
      "Epoch 1: 100%|██████████████████████| 29/29 [01:55<00:00,  3.99s/it, loss=0.655]\u001b[A\n",
      "2022/10/19 23:14:02 WARNING mlflow.utils.requirements_utils: Found torch version (1.12.1+cu113) contains a local version label (+cu113). MLflow logged a pip requirement for this package as 'torch==1.12.1' without the local version label to make it installable from PyPI. To specify pip requirements containing local version labels, please use `conda_env` or `pip_requirements`.\n",
      "2022/10/19 23:14:09 WARNING mlflow.utils.requirements_utils: Found torchvision version (0.13.1+cu113) contains a local version label (+cu113). MLflow logged a pip requirement for this package as 'torchvision==0.13.1' without the local version label to make it installable from PyPI. To specify pip requirements containing local version labels, please use `conda_env` or `pip_requirements`.\n",
      "2022/10/19 23:14:09 WARNING mlflow.utils.autologging_utils: MLflow autologging encountered a warning: \"/opt/conda/lib/python3.10/site-packages/_distutils_hack/__init__.py:33: UserWarning: Setuptools is replacing distutils.\"\n"
     ]
    }
   ],
   "source": [
    "run_name = f\"theo_bfdna_xproj_{now_str()}\"\n",
    "print(run_name)\n",
    "\n",
    "!serotiny train \\\n",
    "    model=example_classifier_2d \\\n",
    "    data=example_dataloader_2d \\\n",
    "    mlflow.experiment_name=cytodata_chapter5 \\\n",
    "    mlflow.run_name={run_name} \\\n",
    "    trainer.gpus=[0] \\\n",
    "    trainer.max_epochs=2"
   ]
  },
  {
   "cell_type": "markdown",
   "id": "bf35ac9a-5346-434a-8c38-743ea0f0c2e1",
   "metadata": {
    "tags": []
   },
   "source": [
    "## <a id='apply'></a>5.3 Load and apply a trained model"
   ]
  },
  {
   "cell_type": "markdown",
   "id": "baed2b94-b894-4e41-b253-8f9cb10555e1",
   "metadata": {},
   "source": [
    "### Make predictions based on the model we just trained"
   ]
  },
  {
   "cell_type": "code",
   "execution_count": 7,
   "id": "4c487b8a-b858-445d-af79-4a6a332ba133",
   "metadata": {
    "tags": []
   },
   "outputs": [
    {
     "name": "stdout",
     "output_type": "stream",
     "text": [
      "[2022-10-19 23:14:15,648][pytorch_lightning.utilities.seed][INFO] - Global seed set to 42\n",
      "[2022-10-19 23:14:15,649][serotiny.ml_ops.ml_ops][INFO] - Instantiating datamodule\n",
      "[2022-10-19 23:14:17,917][serotiny.ml_ops.ml_ops][INFO] - Instantiating trainer\n",
      "/opt/conda/lib/python3.10/site-packages/pytorch_lightning/loops/utilities.py:91: PossibleUserWarning: `max_epochs` was not set. Setting it to 1000 epochs. To train without an epoch limit, set `max_epochs=-1`.\n",
      "  rank_zero_warn(\n",
      "[2022-10-19 23:14:17,951][pytorch_lightning.utilities.rank_zero][INFO] - GPU available: True, used: True\n",
      "[2022-10-19 23:14:17,951][pytorch_lightning.utilities.rank_zero][INFO] - TPU available: False, using: 0 TPU cores\n",
      "[2022-10-19 23:14:17,951][pytorch_lightning.utilities.rank_zero][INFO] - IPU available: False, using: 0 IPUs\n",
      "[2022-10-19 23:14:17,951][pytorch_lightning.utilities.rank_zero][INFO] - HPU available: False, using: 0 HPUs\n",
      "[2022-10-19 23:14:17,951][serotiny.ml_ops.ml_ops][INFO] - Instantiating model\n",
      "/opt/conda/lib/python3.10/site-packages/torch/nn/modules/lazy.py:178: UserWarning: Lazy modules are a new feature under heavy development so changes to the API or functionality can happen at any moment.\n",
      "  warnings.warn('Lazy modules are a new feature under heavy development '\n",
      "[2022-10-19 23:14:18,007][torch.distributed.nn.jit.instantiator][INFO] - Created a temporary directory at /tmp/tmpl3vw1yy_\n",
      "[2022-10-19 23:14:18,007][torch.distributed.nn.jit.instantiator][INFO] - Writing /tmp/tmpl3vw1yy_/_remote_module_non_scriptable.py\n",
      "[2022-10-19 23:14:18,176][serotiny.ml_ops.mlflow_utils][INFO] - Validating and processing MLFlow configuration\n",
      "/opt/conda/lib/python3.10/site-packages/serotiny/ml_ops/mlflow_utils.py:156: FutureWarning: ``mlflow.tracking.fluent.list_run_infos`` is deprecated. This method will be removed in a future release. Use ``search_runs()`` instead.\n",
      "  for run_info in mlflow.list_run_infos(experiment_id=experiment_id):\n",
      "/opt/conda/lib/python3.10/site-packages/mlflow/tracking/fluent.py:1599: FutureWarning: ``mlflow.tracking.client.MlflowClient.list_run_infos`` is deprecated. This method will be removed in a future release. Use ``search_runs()`` instead.\n",
      "  return MlflowClient().list_run_infos(\n",
      "[2022-10-19 23:14:22,340][serotiny.ml_ops.mlflow_utils][INFO] - Calling trainer.predict\n",
      "[2022-10-19 23:14:24,815][pytorch_lightning.accelerators.gpu][INFO] - LOCAL_RANK: 0 - CUDA_VISIBLE_DEVICES: [0]\n",
      "Predicting DataLoader 0: 100%|██████████████████| 32/32 [01:52<00:00,  3.53s/it]\n",
      "2022/10/19 23:16:40 WARNING mlflow.utils.requirements_utils: Found torch version (1.12.1+cu113) contains a local version label (+cu113). MLflow logged a pip requirement for this package as 'torch==1.12.1' without the local version label to make it installable from PyPI. To specify pip requirements containing local version labels, please use `conda_env` or `pip_requirements`.\n",
      "2022/10/19 23:16:48 WARNING mlflow.utils.requirements_utils: Found torchvision version (0.13.1+cu113) contains a local version label (+cu113). MLflow logged a pip requirement for this package as 'torchvision==0.13.1' without the local version label to make it installable from PyPI. To specify pip requirements containing local version labels, please use `conda_env` or `pip_requirements`.\n",
      "2022/10/19 23:16:48 WARNING mlflow.utils.autologging_utils: MLflow autologging encountered a warning: \"/opt/conda/lib/python3.10/site-packages/_distutils_hack/__init__.py:33: UserWarning: Setuptools is replacing distutils.\"\n"
     ]
    }
   ],
   "source": [
    "!serotiny predict \\\n",
    "    model=example_classifier_2d \\\n",
    "    data=example_dataloader_2d \\\n",
    "    mlflow.experiment_name=cytodata_chapter5 \\\n",
    "    mlflow.run_name={run_name} \\\n",
    "    trainer.gpus=[0]"
   ]
  },
  {
   "cell_type": "markdown",
   "id": "73172d20-29ea-4e12-8094-dbe7bab4e21e",
   "metadata": {},
   "source": [
    "### Retrieving predictions from MLFlow"
   ]
  },
  {
   "cell_type": "code",
   "execution_count": 8,
   "id": "fc05b664-e875-4356-8b5c-9479d72a4561",
   "metadata": {},
   "outputs": [],
   "source": [
    "import mlflow\n",
    "from serotiny.ml_ops.mlflow_utils import download_artifact"
   ]
  },
  {
   "cell_type": "code",
   "execution_count": 9,
   "id": "7b6886eb-9519-4e18-a8cb-bf92987630dc",
   "metadata": {
    "tags": []
   },
   "outputs": [
    {
     "name": "stderr",
     "output_type": "stream",
     "text": [
      "/opt/conda/lib/python3.10/site-packages/serotiny/ml_ops/mlflow_utils.py:144: FutureWarning: ``mlflow.tracking.fluent.list_experiments`` is deprecated. This method will be removed in a future release. Use ``search_experiments()`` instead.\n",
      "  for _experiment in mlflow.list_experiments():\n",
      "/opt/conda/lib/python3.10/site-packages/mlflow/tracking/fluent.py:1066: FutureWarning: ``mlflow.tracking.client.MlflowClient.list_experiments`` is deprecated. This method will be removed in a future release. Use ``search_experiments()`` instead.\n",
      "  return MlflowClient().list_experiments(\n",
      "/opt/conda/lib/python3.10/site-packages/serotiny/ml_ops/mlflow_utils.py:156: FutureWarning: ``mlflow.tracking.fluent.list_run_infos`` is deprecated. This method will be removed in a future release. Use ``search_runs()`` instead.\n",
      "  for run_info in mlflow.list_run_infos(experiment_id=experiment_id):\n",
      "/opt/conda/lib/python3.10/site-packages/mlflow/tracking/fluent.py:1599: FutureWarning: ``mlflow.tracking.client.MlflowClient.list_run_infos`` is deprecated. This method will be removed in a future release. Use ``search_runs()`` instead.\n",
      "  return MlflowClient().list_run_infos(\n"
     ]
    }
   ],
   "source": [
    "mlflow.set_tracking_uri(\"http://mlflow.mlflow.svc.cluster.local\")\n",
    "\n",
    "with download_artifact(\"predictions/model_predictions.csv\", experiment_name=\"cytodata_chapter5\", run_name=run_name) as path:\n",
    "    predictions_2d_df = pd.read_csv(path)\n",
    "    "
   ]
  },
  {
   "cell_type": "code",
   "execution_count": 10,
   "id": "3033f326-96b5-4f57-b330-85bea8229379",
   "metadata": {},
   "outputs": [
    {
     "data": {
      "text/html": [
       "<div>\n",
       "<style scoped>\n",
       "    .dataframe tbody tr th:only-of-type {\n",
       "        vertical-align: middle;\n",
       "    }\n",
       "\n",
       "    .dataframe tbody tr th {\n",
       "        vertical-align: top;\n",
       "    }\n",
       "\n",
       "    .dataframe thead th {\n",
       "        text-align: right;\n",
       "    }\n",
       "</style>\n",
       "<table border=\"1\" class=\"dataframe\">\n",
       "  <thead>\n",
       "    <tr style=\"text-align: right;\">\n",
       "      <th></th>\n",
       "      <th>id</th>\n",
       "      <th>y</th>\n",
       "      <th>yhat</th>\n",
       "      <th>loss</th>\n",
       "      <th>split</th>\n",
       "    </tr>\n",
       "  </thead>\n",
       "  <tbody>\n",
       "    <tr>\n",
       "      <th>0</th>\n",
       "      <td>637189</td>\n",
       "      <td>0.0</td>\n",
       "      <td>0.454970</td>\n",
       "      <td>0.577168</td>\n",
       "      <td>train</td>\n",
       "    </tr>\n",
       "    <tr>\n",
       "      <th>1</th>\n",
       "      <td>484312</td>\n",
       "      <td>0.0</td>\n",
       "      <td>0.298278</td>\n",
       "      <td>0.577168</td>\n",
       "      <td>train</td>\n",
       "    </tr>\n",
       "    <tr>\n",
       "      <th>2</th>\n",
       "      <td>940023</td>\n",
       "      <td>0.0</td>\n",
       "      <td>0.475510</td>\n",
       "      <td>0.577168</td>\n",
       "      <td>train</td>\n",
       "    </tr>\n",
       "    <tr>\n",
       "      <th>3</th>\n",
       "      <td>552285</td>\n",
       "      <td>0.0</td>\n",
       "      <td>0.143526</td>\n",
       "      <td>0.577168</td>\n",
       "      <td>train</td>\n",
       "    </tr>\n",
       "    <tr>\n",
       "      <th>4</th>\n",
       "      <td>828077</td>\n",
       "      <td>0.0</td>\n",
       "      <td>0.503089</td>\n",
       "      <td>0.577168</td>\n",
       "      <td>train</td>\n",
       "    </tr>\n",
       "    <tr>\n",
       "      <th>...</th>\n",
       "      <td>...</td>\n",
       "      <td>...</td>\n",
       "      <td>...</td>\n",
       "      <td>...</td>\n",
       "      <td>...</td>\n",
       "    </tr>\n",
       "    <tr>\n",
       "      <th>1995</th>\n",
       "      <td>903389</td>\n",
       "      <td>1.0</td>\n",
       "      <td>0.692256</td>\n",
       "      <td>0.587886</td>\n",
       "      <td>test</td>\n",
       "    </tr>\n",
       "    <tr>\n",
       "      <th>1996</th>\n",
       "      <td>843096</td>\n",
       "      <td>1.0</td>\n",
       "      <td>0.575706</td>\n",
       "      <td>0.587886</td>\n",
       "      <td>train</td>\n",
       "    </tr>\n",
       "    <tr>\n",
       "      <th>1997</th>\n",
       "      <td>878650</td>\n",
       "      <td>1.0</td>\n",
       "      <td>0.446799</td>\n",
       "      <td>0.587886</td>\n",
       "      <td>train</td>\n",
       "    </tr>\n",
       "    <tr>\n",
       "      <th>1998</th>\n",
       "      <td>721762</td>\n",
       "      <td>1.0</td>\n",
       "      <td>0.633231</td>\n",
       "      <td>0.587886</td>\n",
       "      <td>train</td>\n",
       "    </tr>\n",
       "    <tr>\n",
       "      <th>1999</th>\n",
       "      <td>428769</td>\n",
       "      <td>1.0</td>\n",
       "      <td>0.478163</td>\n",
       "      <td>0.587886</td>\n",
       "      <td>train</td>\n",
       "    </tr>\n",
       "  </tbody>\n",
       "</table>\n",
       "<p>2000 rows × 5 columns</p>\n",
       "</div>"
      ],
      "text/plain": [
       "          id    y      yhat      loss  split\n",
       "0     637189  0.0  0.454970  0.577168  train\n",
       "1     484312  0.0  0.298278  0.577168  train\n",
       "2     940023  0.0  0.475510  0.577168  train\n",
       "3     552285  0.0  0.143526  0.577168  train\n",
       "4     828077  0.0  0.503089  0.577168  train\n",
       "...      ...  ...       ...       ...    ...\n",
       "1995  903389  1.0  0.692256  0.587886   test\n",
       "1996  843096  1.0  0.575706  0.587886  train\n",
       "1997  878650  1.0  0.446799  0.587886  train\n",
       "1998  721762  1.0  0.633231  0.587886  train\n",
       "1999  428769  1.0  0.478163  0.587886  train\n",
       "\n",
       "[2000 rows x 5 columns]"
      ]
     },
     "execution_count": 10,
     "metadata": {},
     "output_type": "execute_result"
    }
   ],
   "source": [
    "predictions_2d_df = predictions_2d_df.merge(cells_edgeVSnoedge[['CellId','split']].rename(columns={'CellId':'id'}), on = 'id')\n",
    "predictions_2d_df"
   ]
  },
  {
   "cell_type": "markdown",
   "id": "88d5a783-7737-436a-a81e-8bf3c60fd71b",
   "metadata": {},
   "source": [
    "### Distribution of the continuous class predictions"
   ]
  },
  {
   "cell_type": "code",
   "execution_count": 11,
   "id": "adc5dde4-ab0d-4c2c-8adf-e75eb9428164",
   "metadata": {},
   "outputs": [
    {
     "data": {
      "image/png": "[encoded data removed]",
      "text/plain": [
       "<Figure size 640x480 with 1 Axes>"
      ]
     },
     "metadata": {},
     "output_type": "display_data"
    }
   ],
   "source": [
    "plt.hist(predictions_2d_df.yhat.to_numpy())\n",
    "plt.show()"
   ]
  },
  {
   "cell_type": "markdown",
   "id": "d08ff229-fbb2-4fa3-92d8-f1b43cfbf166",
   "metadata": {
    "tags": []
   },
   "source": [
    "### Confusion matrices of train, valid and test splits "
   ]
  },
  {
   "cell_type": "code",
   "execution_count": 12,
   "id": "e59bebd6-d236-481d-a161-7d7f61ca730e",
   "metadata": {},
   "outputs": [
    {
     "data": {
      "image/png": "[encoded data removed]",
      "text/plain": [
       "<Figure size 1000x300 with 6 Axes>"
      ]
     },
     "metadata": {},
     "output_type": "display_data"
    }
   ],
   "source": [
    "from sklearn.metrics import confusion_matrix,accuracy_score,classification_report\n",
    "\n",
    "# make confusion matrix for each split\n",
    "splits = ['train','valid','test']\n",
    "fig, axes = plt.subplots(nrows=1,ncols=len(splits),figsize=(10, 3), dpi=100)\n",
    "\n",
    "for i,split in enumerate(splits):\n",
    "    \n",
    "    y_true = predictions_2d_df[predictions_2d_df['split']==split]['y'].to_numpy()\n",
    "    y_pred = predictions_2d_df[predictions_2d_df['split']==split]['yhat'].to_numpy()\n",
    "    y_pred = np.round(y_pred) #get to crisp binary class labels from posterior probability\n",
    "\n",
    "    # Compute confusion matrix\n",
    "    cm = confusion_matrix(y_true, y_pred)    \n",
    "    score = accuracy_score(y_true,y_pred) #compute accuracy score\n",
    "    cm_df = pd.DataFrame(cm)\n",
    "    sns.heatmap(cm_df, annot=True, fmt='d',ax = axes[i])\n",
    "    axes[i].set_title(f'Accuracy on {split} is {score:.2f}')\n",
    "    axes[i].set_xlabel('True')\n",
    "    axes[i].set_ylabel('Predicted')\n",
    "\n",
    "plt.show()\n",
    "\n"
   ]
  },
  {
   "cell_type": "markdown",
   "id": "fcfa1dd3-4dca-4af1-8674-38959cea7b09",
   "metadata": {
    "tags": []
   },
   "source": [
    "## <a id='train3D'></a> 5.4 Train a classification model based on 3D images"
   ]
  },
  {
   "cell_type": "markdown",
   "id": "1e26804f-0896-46ff-9412-56206b934e31",
   "metadata": {},
   "source": [
    "### Configure the 5 yamls and run the training"
   ]
  },
  {
   "cell_type": "code",
   "execution_count": 13,
   "id": "c2ba4506-7405-4a7a-8b5a-a76ab648d435",
   "metadata": {},
   "outputs": [
    {
     "name": "stdout",
     "output_type": "stream",
     "text": [
      "[2022-10-19 23:16:59,776][pytorch_lightning.utilities.seed][INFO] - Global seed set to 42\n",
      "[2022-10-19 23:16:59,777][serotiny.ml_ops.ml_ops][INFO] - Instantiating datamodule\n",
      "[2022-10-19 23:17:02,016][serotiny.ml_ops.ml_ops][INFO] - Instantiating trainer\n",
      "[2022-10-19 23:17:02,049][pytorch_lightning.utilities.rank_zero][INFO] - GPU available: True, used: True\n",
      "[2022-10-19 23:17:02,049][pytorch_lightning.utilities.rank_zero][INFO] - TPU available: False, using: 0 TPU cores\n",
      "[2022-10-19 23:17:02,049][pytorch_lightning.utilities.rank_zero][INFO] - IPU available: False, using: 0 IPUs\n",
      "[2022-10-19 23:17:02,049][pytorch_lightning.utilities.rank_zero][INFO] - HPU available: False, using: 0 HPUs\n",
      "[2022-10-19 23:17:02,050][serotiny.ml_ops.ml_ops][INFO] - Instantiating model\n",
      "/opt/conda/lib/python3.10/site-packages/torch/nn/modules/lazy.py:178: UserWarning: Lazy modules are a new feature under heavy development so changes to the API or functionality can happen at any moment.\n",
      "  warnings.warn('Lazy modules are a new feature under heavy development '\n",
      "[2022-10-19 23:17:02,095][torch.distributed.nn.jit.instantiator][INFO] - Created a temporary directory at /tmp/tmpfbtl_g4w\n",
      "[2022-10-19 23:17:02,095][torch.distributed.nn.jit.instantiator][INFO] - Writing /tmp/tmpfbtl_g4w/_remote_module_non_scriptable.py\n",
      "[2022-10-19 23:17:02,110][serotiny.ml_ops.mlflow_utils][INFO] - Validating and processing MLFlow configuration\n",
      "/opt/conda/lib/python3.10/site-packages/serotiny/ml_ops/mlflow_utils.py:156: FutureWarning: ``mlflow.tracking.fluent.list_run_infos`` is deprecated. This method will be removed in a future release. Use ``search_runs()`` instead.\n",
      "  for run_info in mlflow.list_run_infos(experiment_id=experiment_id):\n",
      "/opt/conda/lib/python3.10/site-packages/mlflow/tracking/fluent.py:1599: FutureWarning: ``mlflow.tracking.client.MlflowClient.list_run_infos`` is deprecated. This method will be removed in a future release. Use ``search_runs()`` instead.\n",
      "  return MlflowClient().list_run_infos(\n",
      "[2022-10-19 23:17:06,313][serotiny.ml_ops.mlflow_utils][INFO] - Calling trainer.fit\n",
      "[2022-10-19 23:17:08,775][pytorch_lightning.accelerators.gpu][INFO] - LOCAL_RANK: 0 - CUDA_VISIBLE_DEVICES: [0]\n",
      "/opt/conda/lib/python3.10/site-packages/pytorch_lightning/utilities/model_summary.py:407: UserWarning: A layer with UninitializedParameter was found. Thus, the total number of parameters detected may be inaccurate.\n",
      "  warning_cache.warn(\n",
      "[2022-10-19 23:17:08,777][pytorch_lightning.callbacks.model_summary][INFO] - \n",
      "  | Name    | Type       | Params\n",
      "---------------------------------------\n",
      "0 | network | Sequential | 0     \n",
      "1 | loss    | BCELoss    | 0     \n",
      "---------------------------------------\n",
      "0         Trainable params\n",
      "0         Non-trainable params\n",
      "0         Total params\n",
      "0.000     Total estimated model params size (MB)\n",
      "Epoch 0:  76%|████████████████▋     | 22/29 [04:14<01:21, 11.57s/it, loss=0.549]\n",
      "Validation: 0it [00:00, ?it/s]\u001b[A\n",
      "Validation:   0%|                                         | 0/7 [00:00<?, ?it/s]\u001b[A\n",
      "Validation DataLoader 0:   0%|                            | 0/7 [00:00<?, ?it/s]\u001b[A\n",
      "Epoch 0:  79%|█████████████████▍    | 23/29 [05:12<01:21, 13.59s/it, loss=0.549]\u001b[A\n",
      "Validation DataLoader 0:  29%|█████▋              | 2/7 [00:02<00:05,  1.11s/it]\u001b[A\n",
      "Epoch 0:  83%|██████████████████▏   | 24/29 [05:14<01:05, 13.12s/it, loss=0.549]\u001b[A\n",
      "Validation DataLoader 0:  43%|████████▌           | 3/7 [00:02<00:02,  1.41it/s]\u001b[A\n",
      "Epoch 0:  86%|██████████████████▉   | 25/29 [05:14<00:50, 12.60s/it, loss=0.549]\u001b[A\n",
      "Validation DataLoader 0:  57%|███████████▍        | 4/7 [00:02<00:01,  2.00it/s]\u001b[A\n",
      "Epoch 0:  90%|███████████████████▋  | 26/29 [05:15<00:36, 12.12s/it, loss=0.549]\u001b[A\n",
      "Validation DataLoader 0:  71%|██████████████▎     | 5/7 [00:02<00:00,  2.63it/s]\u001b[A\n",
      "Epoch 0:  93%|████████████████████▍ | 27/29 [05:15<00:23, 11.68s/it, loss=0.549]\u001b[A\n",
      "Validation DataLoader 0:  86%|█████████████████▏  | 6/7 [00:02<00:00,  3.29it/s]\u001b[A\n",
      "Epoch 0:  97%|█████████████████████▏| 28/29 [05:15<00:11, 11.27s/it, loss=0.549]\u001b[A\n",
      "Validation DataLoader 0: 100%|████████████████████| 7/7 [00:13<00:00,  3.52s/it]\u001b[A\n",
      "Epoch 0: 100%|██████████████████████| 29/29 [05:25<00:00, 11.23s/it, loss=0.549]\u001b[A\n",
      "Epoch 0: 100%|██████████████████████| 29/29 [05:25<00:00, 11.24s/it, loss=0.549]\u001b[A\n",
      "2022/10/19 23:24:06 WARNING mlflow.utils.requirements_utils: Found torch version (1.12.1+cu113) contains a local version label (+cu113). MLflow logged a pip requirement for this package as 'torch==1.12.1' without the local version label to make it installable from PyPI. To specify pip requirements containing local version labels, please use `conda_env` or `pip_requirements`.\n",
      "2022/10/19 23:24:14 WARNING mlflow.utils.requirements_utils: Found torchvision version (0.13.1+cu113) contains a local version label (+cu113). MLflow logged a pip requirement for this package as 'torchvision==0.13.1' without the local version label to make it installable from PyPI. To specify pip requirements containing local version labels, please use `conda_env` or `pip_requirements`.\n",
      "2022/10/19 23:24:14 WARNING mlflow.utils.autologging_utils: MLflow autologging encountered a warning: \"/opt/conda/lib/python3.10/site-packages/_distutils_hack/__init__.py:33: UserWarning: Setuptools is replacing distutils.\"\n"
     ]
    }
   ],
   "source": [
    "run_name = f\"some_3d_run_{now_str()}\"\n",
    "\n",
    "!serotiny train \\\n",
    "    model=example_classifier_3d \\\n",
    "    data=example_dataloader_3d \\\n",
    "    mlflow.experiment_name=cytodata_chapter5 \\\n",
    "    mlflow.run_name={run_name} \\\n",
    "    ++data.loaders.image.unsqueeze_first_dim=True \\\n",
    "    ++data.loaders.image.ome_zarr_level=1 \\\n",
    "    trainer.gpus=[0] \\\n",
    "    trainer.max_epochs=1 "
   ]
  },
  {
   "cell_type": "markdown",
   "id": "05dde5b4-56de-4007-9a89-883e4732fadb",
   "metadata": {},
   "source": [
    "Note: The above task train at 5871MiB / 16160MiB when using the image.ome_zarr_level=1 "
   ]
  },
  {
   "cell_type": "markdown",
   "id": "b7f447fc-239d-422c-8a00-02266a3fcea1",
   "metadata": {},
   "source": [
    "### Make predictions from the pretrained model"
   ]
  },
  {
   "cell_type": "code",
   "execution_count": 14,
   "id": "ed506499-7f87-4e69-b137-e0d061e9c795",
   "metadata": {
    "tags": []
   },
   "outputs": [
    {
     "name": "stdout",
     "output_type": "stream",
     "text": [
      "[2022-10-19 23:24:20,396][pytorch_lightning.utilities.seed][INFO] - Global seed set to 42\n",
      "[2022-10-19 23:24:20,397][serotiny.ml_ops.ml_ops][INFO] - Instantiating datamodule\n",
      "[2022-10-19 23:24:22,672][serotiny.ml_ops.ml_ops][INFO] - Instantiating trainer\n",
      "/opt/conda/lib/python3.10/site-packages/pytorch_lightning/loops/utilities.py:91: PossibleUserWarning: `max_epochs` was not set. Setting it to 1000 epochs. To train without an epoch limit, set `max_epochs=-1`.\n",
      "  rank_zero_warn(\n",
      "[2022-10-19 23:24:22,705][pytorch_lightning.utilities.rank_zero][INFO] - GPU available: True, used: True\n",
      "[2022-10-19 23:24:22,706][pytorch_lightning.utilities.rank_zero][INFO] - TPU available: False, using: 0 TPU cores\n",
      "[2022-10-19 23:24:22,706][pytorch_lightning.utilities.rank_zero][INFO] - IPU available: False, using: 0 IPUs\n",
      "[2022-10-19 23:24:22,706][pytorch_lightning.utilities.rank_zero][INFO] - HPU available: False, using: 0 HPUs\n",
      "[2022-10-19 23:24:22,706][serotiny.ml_ops.ml_ops][INFO] - Instantiating model\n",
      "/opt/conda/lib/python3.10/site-packages/torch/nn/modules/lazy.py:178: UserWarning: Lazy modules are a new feature under heavy development so changes to the API or functionality can happen at any moment.\n",
      "  warnings.warn('Lazy modules are a new feature under heavy development '\n",
      "[2022-10-19 23:24:22,754][torch.distributed.nn.jit.instantiator][INFO] - Created a temporary directory at /tmp/tmpp73sjij9\n",
      "[2022-10-19 23:24:22,755][torch.distributed.nn.jit.instantiator][INFO] - Writing /tmp/tmpp73sjij9/_remote_module_non_scriptable.py\n",
      "[2022-10-19 23:24:22,770][serotiny.ml_ops.mlflow_utils][INFO] - Validating and processing MLFlow configuration\n",
      "/opt/conda/lib/python3.10/site-packages/serotiny/ml_ops/mlflow_utils.py:156: FutureWarning: ``mlflow.tracking.fluent.list_run_infos`` is deprecated. This method will be removed in a future release. Use ``search_runs()`` instead.\n",
      "  for run_info in mlflow.list_run_infos(experiment_id=experiment_id):\n",
      "/opt/conda/lib/python3.10/site-packages/mlflow/tracking/fluent.py:1599: FutureWarning: ``mlflow.tracking.client.MlflowClient.list_run_infos`` is deprecated. This method will be removed in a future release. Use ``search_runs()`` instead.\n",
      "  return MlflowClient().list_run_infos(\n",
      "[2022-10-19 23:24:27,451][serotiny.ml_ops.mlflow_utils][INFO] - Calling trainer.predict\n",
      "[2022-10-19 23:24:29,918][pytorch_lightning.accelerators.gpu][INFO] - LOCAL_RANK: 0 - CUDA_VISIBLE_DEVICES: [0]\n",
      "Predicting DataLoader 0: 100%|██████████████████| 32/32 [04:38<00:00,  8.70s/it]\n",
      "2022/10/19 23:30:10 WARNING mlflow.utils.requirements_utils: Found torch version (1.12.1+cu113) contains a local version label (+cu113). MLflow logged a pip requirement for this package as 'torch==1.12.1' without the local version label to make it installable from PyPI. To specify pip requirements containing local version labels, please use `conda_env` or `pip_requirements`.\n",
      "2022/10/19 23:30:17 WARNING mlflow.utils.requirements_utils: Found torchvision version (0.13.1+cu113) contains a local version label (+cu113). MLflow logged a pip requirement for this package as 'torchvision==0.13.1' without the local version label to make it installable from PyPI. To specify pip requirements containing local version labels, please use `conda_env` or `pip_requirements`.\n",
      "2022/10/19 23:30:17 WARNING mlflow.utils.autologging_utils: MLflow autologging encountered a warning: \"/opt/conda/lib/python3.10/site-packages/_distutils_hack/__init__.py:33: UserWarning: Setuptools is replacing distutils.\"\n"
     ]
    }
   ],
   "source": [
    "!serotiny predict \\\n",
    "    model=example_classifier_3d \\\n",
    "    data=example_dataloader_3d \\\n",
    "    mlflow.experiment_name=cytodata_chapter5 \\\n",
    "    mlflow.run_name={run_name} \\\n",
    "    ++data.loaders.image.unsqueeze_first_dim=True \\\n",
    "    ++data.loaders.image.ome_zarr_level=1 \\\n",
    "    trainer.gpus=[0]"
   ]
  },
  {
   "cell_type": "markdown",
   "id": "4b6d0de2-90d8-41ee-8fe1-4d872cd90ace",
   "metadata": {
    "tags": []
   },
   "source": [
    "### Retrieving predictions from MLFlow"
   ]
  },
  {
   "cell_type": "code",
   "execution_count": 15,
   "id": "7ec203f7-2aa3-4e8f-8e64-7b57dfa55413",
   "metadata": {
    "tags": []
   },
   "outputs": [
    {
     "name": "stderr",
     "output_type": "stream",
     "text": [
      "/opt/conda/lib/python3.10/site-packages/serotiny/ml_ops/mlflow_utils.py:144: FutureWarning: ``mlflow.tracking.fluent.list_experiments`` is deprecated. This method will be removed in a future release. Use ``search_experiments()`` instead.\n",
      "  for _experiment in mlflow.list_experiments():\n",
      "/opt/conda/lib/python3.10/site-packages/mlflow/tracking/fluent.py:1066: FutureWarning: ``mlflow.tracking.client.MlflowClient.list_experiments`` is deprecated. This method will be removed in a future release. Use ``search_experiments()`` instead.\n",
      "  return MlflowClient().list_experiments(\n",
      "/opt/conda/lib/python3.10/site-packages/serotiny/ml_ops/mlflow_utils.py:156: FutureWarning: ``mlflow.tracking.fluent.list_run_infos`` is deprecated. This method will be removed in a future release. Use ``search_runs()`` instead.\n",
      "  for run_info in mlflow.list_run_infos(experiment_id=experiment_id):\n",
      "/opt/conda/lib/python3.10/site-packages/mlflow/tracking/fluent.py:1599: FutureWarning: ``mlflow.tracking.client.MlflowClient.list_run_infos`` is deprecated. This method will be removed in a future release. Use ``search_runs()`` instead.\n",
      "  return MlflowClient().list_run_infos(\n"
     ]
    }
   ],
   "source": [
    "mlflow.set_tracking_uri(\"http://mlflow.mlflow.svc.cluster.local\")\n",
    "\n",
    "with download_artifact(\"predictions/model_predictions.csv\", experiment_name=\"cytodata_chapter5\", run_name=run_name) as path:\n",
    "    predictions_3d_df = pd.read_csv(path)"
   ]
  },
  {
   "cell_type": "code",
   "execution_count": 16,
   "id": "67a19c7d-9a17-4d52-a90a-c1a35c841662",
   "metadata": {},
   "outputs": [
    {
     "data": {
      "text/html": [
       "<div>\n",
       "<style scoped>\n",
       "    .dataframe tbody tr th:only-of-type {\n",
       "        vertical-align: middle;\n",
       "    }\n",
       "\n",
       "    .dataframe tbody tr th {\n",
       "        vertical-align: top;\n",
       "    }\n",
       "\n",
       "    .dataframe thead th {\n",
       "        text-align: right;\n",
       "    }\n",
       "</style>\n",
       "<table border=\"1\" class=\"dataframe\">\n",
       "  <thead>\n",
       "    <tr style=\"text-align: right;\">\n",
       "      <th></th>\n",
       "      <th>id</th>\n",
       "      <th>y</th>\n",
       "      <th>yhat</th>\n",
       "      <th>loss</th>\n",
       "      <th>split</th>\n",
       "    </tr>\n",
       "  </thead>\n",
       "  <tbody>\n",
       "    <tr>\n",
       "      <th>0</th>\n",
       "      <td>637189</td>\n",
       "      <td>0.0</td>\n",
       "      <td>0.572401</td>\n",
       "      <td>0.973251</td>\n",
       "      <td>train</td>\n",
       "    </tr>\n",
       "    <tr>\n",
       "      <th>1</th>\n",
       "      <td>484312</td>\n",
       "      <td>0.0</td>\n",
       "      <td>0.534121</td>\n",
       "      <td>0.973251</td>\n",
       "      <td>train</td>\n",
       "    </tr>\n",
       "    <tr>\n",
       "      <th>2</th>\n",
       "      <td>940023</td>\n",
       "      <td>0.0</td>\n",
       "      <td>0.696772</td>\n",
       "      <td>0.973251</td>\n",
       "      <td>train</td>\n",
       "    </tr>\n",
       "    <tr>\n",
       "      <th>3</th>\n",
       "      <td>552285</td>\n",
       "      <td>0.0</td>\n",
       "      <td>0.630660</td>\n",
       "      <td>0.973251</td>\n",
       "      <td>train</td>\n",
       "    </tr>\n",
       "    <tr>\n",
       "      <th>4</th>\n",
       "      <td>828077</td>\n",
       "      <td>0.0</td>\n",
       "      <td>0.504620</td>\n",
       "      <td>0.973251</td>\n",
       "      <td>train</td>\n",
       "    </tr>\n",
       "    <tr>\n",
       "      <th>...</th>\n",
       "      <td>...</td>\n",
       "      <td>...</td>\n",
       "      <td>...</td>\n",
       "      <td>...</td>\n",
       "      <td>...</td>\n",
       "    </tr>\n",
       "    <tr>\n",
       "      <th>1995</th>\n",
       "      <td>903389</td>\n",
       "      <td>1.0</td>\n",
       "      <td>0.819196</td>\n",
       "      <td>0.292132</td>\n",
       "      <td>test</td>\n",
       "    </tr>\n",
       "    <tr>\n",
       "      <th>1996</th>\n",
       "      <td>843096</td>\n",
       "      <td>1.0</td>\n",
       "      <td>0.863021</td>\n",
       "      <td>0.292132</td>\n",
       "      <td>train</td>\n",
       "    </tr>\n",
       "    <tr>\n",
       "      <th>1997</th>\n",
       "      <td>878650</td>\n",
       "      <td>1.0</td>\n",
       "      <td>0.750857</td>\n",
       "      <td>0.292132</td>\n",
       "      <td>train</td>\n",
       "    </tr>\n",
       "    <tr>\n",
       "      <th>1998</th>\n",
       "      <td>721762</td>\n",
       "      <td>1.0</td>\n",
       "      <td>0.763101</td>\n",
       "      <td>0.292132</td>\n",
       "      <td>train</td>\n",
       "    </tr>\n",
       "    <tr>\n",
       "      <th>1999</th>\n",
       "      <td>428769</td>\n",
       "      <td>1.0</td>\n",
       "      <td>0.871535</td>\n",
       "      <td>0.292132</td>\n",
       "      <td>train</td>\n",
       "    </tr>\n",
       "  </tbody>\n",
       "</table>\n",
       "<p>2000 rows × 5 columns</p>\n",
       "</div>"
      ],
      "text/plain": [
       "          id    y      yhat      loss  split\n",
       "0     637189  0.0  0.572401  0.973251  train\n",
       "1     484312  0.0  0.534121  0.973251  train\n",
       "2     940023  0.0  0.696772  0.973251  train\n",
       "3     552285  0.0  0.630660  0.973251  train\n",
       "4     828077  0.0  0.504620  0.973251  train\n",
       "...      ...  ...       ...       ...    ...\n",
       "1995  903389  1.0  0.819196  0.292132   test\n",
       "1996  843096  1.0  0.863021  0.292132  train\n",
       "1997  878650  1.0  0.750857  0.292132  train\n",
       "1998  721762  1.0  0.763101  0.292132  train\n",
       "1999  428769  1.0  0.871535  0.292132  train\n",
       "\n",
       "[2000 rows x 5 columns]"
      ]
     },
     "execution_count": 16,
     "metadata": {},
     "output_type": "execute_result"
    }
   ],
   "source": [
    "predictions_3d_df = predictions_3d_df.merge(cells_edgeVSnoedge[['CellId','split']].rename(columns={'CellId':'id'}), on = 'id')\n",
    "predictions_3d_df\n",
    "# print(len(predictions_3d_df))"
   ]
  },
  {
   "cell_type": "code",
   "execution_count": 17,
   "id": "709f5b92-21f1-4aea-a4bf-8387be444897",
   "metadata": {},
   "outputs": [
    {
     "data": {
      "image/png": "[encoded data removed]",
      "text/plain": [
       "<Figure size 640x480 with 1 Axes>"
      ]
     },
     "metadata": {},
     "output_type": "display_data"
    }
   ],
   "source": [
    "plt.hist(predictions_3d_df.yhat.to_numpy())\n",
    "plt.show()"
   ]
  },
  {
   "cell_type": "markdown",
   "id": "fe556d11-bba4-4c7b-a935-62946d7dcb9c",
   "metadata": {
    "tags": []
   },
   "source": [
    "### Confusion matrices of train, valid and test splits "
   ]
  },
  {
   "cell_type": "code",
   "execution_count": 18,
   "id": "3a75a6b4-f89d-409e-99a2-95fb26d02b93",
   "metadata": {},
   "outputs": [
    {
     "data": {
      "image/png": "[encoded data removed]",
      "text/plain": [
       "<Figure size 1000x300 with 6 Axes>"
      ]
     },
     "metadata": {},
     "output_type": "display_data"
    }
   ],
   "source": [
    "from sklearn.metrics import confusion_matrix,accuracy_score,classification_report\n",
    "\n",
    "# make confusion matrix for each split\n",
    "splits = ['train','valid','test']\n",
    "fig, axes = plt.subplots(nrows=1,ncols=len(splits),figsize=(10, 3), dpi=100)\n",
    "\n",
    "for i,split in enumerate(splits):\n",
    "    \n",
    "    y_true = predictions_3d_df[predictions_3d_df['split']==split]['y'].to_numpy()\n",
    "    y_pred = predictions_3d_df[predictions_3d_df['split']==split]['yhat'].to_numpy()\n",
    "    y_pred = np.round(y_pred) #get to crisp binary class labels from posterior probability\n",
    "\n",
    "    # Computer confusion matrix\n",
    "    cm = confusion_matrix(y_true, y_pred)    \n",
    "    score = accuracy_score(y_true,y_pred) #compute accuracy score\n",
    "    cm_df = pd.DataFrame(cm)\n",
    "    sns.heatmap(cm_df, annot=True, fmt='d',ax = axes[i])\n",
    "    axes[i].set_title(f'Accuracy on {split} is {score:.2f}')\n",
    "    axes[i].set_xlabel('True')\n",
    "    axes[i].set_ylabel('Predicted')\n",
    "\n",
    "plt.show()"
   ]
  },
  {
   "cell_type": "markdown",
   "id": "b5039aa3-3c1f-43ea-b34b-578c426b520c",
   "metadata": {},
   "source": [
    "# <a id='end'></a>Conclusion\n",
    "In this chapter you learned how to parametrize ML models using serotiny. We trained 2D and 3D models to distinguish edge from non-edge cells. In the next chapter you will learn what the hackathon tasks are. The data and tools that you have explored in this and previous chapters will be the basis for understanding and solving the hackathon tasks."
   ]
  }
 ],
 "metadata": {
  "kernelspec": {
   "display_name": "Python 3 (ipykernel)",
   "language": "python",
   "name": "python3"
  },
  "language_info": {
   "codemirror_mode": {
    "name": "ipython",
    "version": 3
   },
   "file_extension": ".py",
   "mimetype": "text/x-python",
   "name": "python",
   "nbconvert_exporter": "python",
   "pygments_lexer": "ipython3",
   "version": "3.10.6"
  }
 },
 "nbformat": 4,
 "nbformat_minor": 5
}
