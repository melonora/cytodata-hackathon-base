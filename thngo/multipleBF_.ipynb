{
 "cells": [
  {
   "cell_type": "markdown",
   "id": "ad9786ea-294c-4e2f-b737-dea1d42236d6",
   "metadata": {},
   "source": [
    "Run prediction on multiple bright field 2D images"
   ]
  },
  {
   "cell_type": "code",
   "execution_count": 1,
   "id": "9a2ef741-edcc-4e5e-a309-26771b84e973",
   "metadata": {},
   "outputs": [
    {
     "name": "stderr",
     "output_type": "stream",
     "text": [
      "20-Oct-22 17:39:41 - bfio.backends - WARNING  - Java backend is not available. This could be due to a missing dependency (jpype).\n"
     ]
    }
   ],
   "source": [
    "from upath import UPath as Path\n",
    "import pandas as pd\n",
    "import numpy as np\n",
    "import matplotlib.pyplot as plt\n",
    "import seaborn as sns\n",
    "import nbvv\n",
    "\n",
    "from serotiny.io.image import image_loader\n",
    "from cytodata_aics.io_utils import rescale_image\n",
    "#from cytodata_aics.model_utils import save_predictions_classifier"
   ]
  },
  {
   "cell_type": "code",
   "execution_count": 2,
   "id": "34d6dbfb-6c7d-4740-b230-12af572090ab",
   "metadata": {},
   "outputs": [
    {
     "name": "stdout",
     "output_type": "stream",
     "text": [
      "Number of cells: 214037\n",
      "Number of columns: 77\n"
     ]
    }
   ],
   "source": [
    "df = pd.read_parquet(\"s3://allencell-hipsc-cytodata/hackathon_manifest_17oct2022.parquet\")\n",
    "df.set_index(df['CellId'].astype(int), inplace=True)\n",
    "print(f'Number of cells: {len(df)}')\n",
    "print(f'Number of columns: {len(df.columns)}')"
   ]
  },
  {
   "cell_type": "markdown",
   "id": "97a04276-c802-4a1f-9859-c2f2194f5e56",
   "metadata": {},
   "source": [
    "Encode cell stage as integer"
   ]
  },
  {
   "cell_type": "code",
   "execution_count": 8,
   "id": "e8832844-6745-4e6b-bf7b-b63d5ba0f224",
   "metadata": {},
   "outputs": [
    {
     "name": "stdout",
     "output_type": "stream",
     "text": [
      "Number of cells: 8179\n",
      "Number of columns: 79\n"
     ]
    }
   ],
   "source": [
    "#From Chapter 5\n",
    "#loading library, making path for\n",
    "from serotiny.transforms.dataframe.transforms import split_dataframe\n",
    "Path(\"/home/aicsuser/serotiny_data/\").mkdir(parents=True, exist_ok=True)\n",
    "# Sample n cells per group\n",
    "n = 2000 # number of cells per mitotic class\n",
    "cells_to_include=[]\n",
    "for name, group in df.groupby('cell_stage'):\n",
    "    sampled_group = group.sample(min([n,len(group)]), random_state=0)\n",
    "    cells_to_include.append(sampled_group)\n",
    "df_mitocells = pd.concat(cells_to_include).reset_index(drop=True)\n",
    "# Discarding all the M6M7_single cells\n",
    "df_mitocells = df_mitocells.drop(df_mitocells[df_mitocells['cell_stage']=='M6M7_single'].index)\n",
    "df_mitocells['cell_stage_encoded'] = pd.factorize(df_mitocells['cell_stage'])[0]\n",
    "# Add the train, test and validate split\n",
    "df_mitocells = split_dataframe(dataframe=df_mitocells, train_frac=0.7, val_frac=0.2, return_splits=False)\n",
    "df_mitocells.to_csv(\"/home/aicsuser/serotiny_data/mitocells.csv\")\n",
    "print(f\"Number of cells: {len(df_mitocells)}\")\n",
    "print(f\"Number of columns: {len(df_mitocells.columns)}\")"
   ]
  },
  {
   "cell_type": "code",
   "execution_count": 9,
   "id": "c987de82-1ec7-45e0-81d2-c10904061733",
   "metadata": {},
   "outputs": [
    {
     "name": "stdout",
     "output_type": "stream",
     "text": [
      "['M0' 'M1M2' 'M3' 'M4M5' 'M6M7_complete']\n"
     ]
    }
   ],
   "source": [
    "class_count = df_mitocells[\"cell_stage\"].unique()\n",
    "print(class_count)\n",
    "\n",
    "# Check if encoding cell stage is mapping correctly\n",
    "#stages = df_mitocells[['cell_stage', 'cell_stage_encoded']].head()\n",
    "#print(stages)"
   ]
  },
  {
   "cell_type": "code",
   "execution_count": 10,
   "id": "22a8df90-ce6e-45c2-ae8e-051f0a1014d8",
   "metadata": {},
   "outputs": [
    {
     "data": {
      "image/png": "[encoded data removed]",
      "text/plain": [
       "<Figure size 2000x700 with 1 Axes>"
      ]
     },
     "metadata": {},
     "output_type": "display_data"
    },
    {
     "name": "stdout",
     "output_type": "stream",
     "text": [
      "cell_stage\n",
      "M0               2000\n",
      "M1M2             2000\n",
      "M3                981\n",
      "M4M5             2000\n",
      "M6M7_complete    1198\n",
      "dtype: int64\n"
     ]
    }
   ],
   "source": [
    "# The bar plot counting number of cell in our dataset\n",
    "%matplotlib inline\n",
    "plt.style.use('seaborn-v0_8-white')   #print(plt.style.available)\n",
    "# Code from Chapter 4 to make a bar plot\n",
    "table = pd.pivot_table(df_mitocells, index=\"cell_stage\", aggfunc=\"size\")\n",
    "fig, axes = plt.subplots(figsize=(20, 7), dpi=100)\n",
    "table.plot.barh(stacked=True, ax=axes)\n",
    "axes.set_ylabel(None)\n",
    "axes.set_title(\"Structures and Cell Stage\")\n",
    "axes.grid(True, which=\"major\", axis=\"x\")\n",
    "axes.set_axisbelow(True)\n",
    "axes.invert_yaxis()\n",
    "plt.show()\n",
    "print(table)"
   ]
  },
  {
   "cell_type": "code",
   "execution_count": 11,
   "id": "50118674-ba12-46bf-ab1f-9e8a990cbaec",
   "metadata": {},
   "outputs": [],
   "source": [
    "# pointing to LOCAL config files\n",
    "import os\n",
    "os.chdir(\"/home/aicsuser/eyeballExpress/cytodata-hackathon-base\")"
   ]
  },
  {
   "cell_type": "code",
   "execution_count": 13,
   "id": "f00ef80d-c78f-4622-b9da-e750ddc5f598",
   "metadata": {},
   "outputs": [],
   "source": [
    "# create unique name based on time\n",
    "from datetime import datetime\n",
    "# util to avoid referring to the same run unintentionally\n",
    "now_str = lambda : datetime.now().strftime(\"%Y%m%d_%H%M%S\")"
   ]
  },
  {
   "cell_type": "code",
   "execution_count": null,
   "id": "d951750e-e47e-408a-a4f5-2c81856dd5ab",
   "metadata": {},
   "outputs": [
    {
     "name": "stdout",
     "output_type": "stream",
     "text": [
      "tra_2DBf_20221020_180948\n",
      "[2022-10-20 18:09:52,015][pytorch_lightning.utilities.seed][INFO] - Global seed set to 42\n",
      "[2022-10-20 18:09:52,016][serotiny.ml_ops.ml_ops][INFO] - Instantiating datamodule\n",
      "[2022-10-20 18:09:54,473][serotiny.ml_ops.ml_ops][INFO] - Instantiating trainer\n",
      "[2022-10-20 18:09:54,528][pytorch_lightning.utilities.rank_zero][INFO] - GPU available: True, used: True\n",
      "[2022-10-20 18:09:54,528][pytorch_lightning.utilities.rank_zero][INFO] - TPU available: False, using: 0 TPU cores\n",
      "[2022-10-20 18:09:54,528][pytorch_lightning.utilities.rank_zero][INFO] - IPU available: False, using: 0 IPUs\n",
      "[2022-10-20 18:09:54,528][pytorch_lightning.utilities.rank_zero][INFO] - HPU available: False, using: 0 HPUs\n",
      "[2022-10-20 18:09:54,528][serotiny.ml_ops.ml_ops][INFO] - Instantiating model\n",
      "/opt/conda/lib/python3.10/site-packages/torch/nn/modules/lazy.py:178: UserWarning: Lazy modules are a new feature under heavy development so changes to the API or functionality can happen at any moment.\n",
      "  warnings.warn('Lazy modules are a new feature under heavy development '\n",
      "[2022-10-20 18:09:54,584][torch.distributed.nn.jit.instantiator][INFO] - Created a temporary directory at /tmp/tmp8pyq0vch\n",
      "[2022-10-20 18:09:54,584][torch.distributed.nn.jit.instantiator][INFO] - Writing /tmp/tmp8pyq0vch/_remote_module_non_scriptable.py\n",
      "[2022-10-20 18:09:54,747][serotiny.ml_ops.mlflow_utils][INFO] - Validating and processing MLFlow configuration\n",
      "/opt/conda/lib/python3.10/site-packages/serotiny/ml_ops/mlflow_utils.py:156: FutureWarning: ``mlflow.tracking.fluent.list_run_infos`` is deprecated. This method will be removed in a future release. Use ``search_runs()`` instead.\n",
      "  for run_info in mlflow.list_run_infos(experiment_id=experiment_id):\n",
      "/opt/conda/lib/python3.10/site-packages/mlflow/tracking/fluent.py:1599: FutureWarning: ``mlflow.tracking.client.MlflowClient.list_run_infos`` is deprecated. This method will be removed in a future release. Use ``search_runs()`` instead.\n",
      "  return MlflowClient().list_run_infos(\n",
      "[2022-10-20 18:09:55,154][serotiny.ml_ops.mlflow_utils][INFO] - Calling trainer.fit\n",
      "[2022-10-20 18:09:57,633][pytorch_lightning.accelerators.gpu][INFO] - LOCAL_RANK: 0 - CUDA_VISIBLE_DEVICES: [0]\n",
      "/opt/conda/lib/python3.10/site-packages/pytorch_lightning/utilities/model_summary.py:407: UserWarning: A layer with UninitializedParameter was found. Thus, the total number of parameters detected may be inaccurate.\n",
      "  warning_cache.warn(\n",
      "[2022-10-20 18:09:57,636][pytorch_lightning.callbacks.model_summary][INFO] - \n",
      "  | Name    | Type             | Params\n",
      "---------------------------------------------\n",
      "0 | network | Sequential       | 0     \n",
      "1 | loss    | CrossEntropyLoss | 0     \n",
      "---------------------------------------------\n",
      "0         Trainable params\n",
      "0         Non-trainable params\n",
      "0         Total params\n",
      "0.000     Total estimated model params size (MB)\n",
      "Sanity Checking DataLoader 0:   0%|                       | 0/2 [00:00<?, ?it/s]/opt/conda/lib/python3.10/site-packages/torch/nn/modules/container.py:139: UserWarning: Implicit dimension choice for softmax has been deprecated. Change the call to include dim=X as an argument.\n",
      "  input = module(input)\n",
      "Epoch 0:  78%|█████████████████     | 90/116 [05:17<01:31,  3.53s/it, loss=1.51]\n",
      "Epoch 0:  78%|█████████████████     | 90/116 [05:29<01:35,  3.66s/it, loss=1.51]\n",
      "Validation:   0%|                                        | 0/26 [00:00<?, ?it/s]\u001b[A\n",
      "Validation DataLoader 0:   0%|                           | 0/26 [00:00<?, ?it/s]\u001b[A\n",
      "Epoch 0:  78%|█████████████████▎    | 91/116 [05:39<01:33,  3.73s/it, loss=1.51]\u001b[A\n",
      "Validation DataLoader 0:   8%|█▍                 | 2/26 [00:00<00:02,  9.15it/s]\u001b[A\n",
      "Epoch 0:  79%|█████████████████▍    | 92/116 [05:40<01:28,  3.70s/it, loss=1.51]\u001b[A\n",
      "Validation DataLoader 0:  12%|██▏                | 3/26 [00:02<00:18,  1.23it/s]\u001b[A\n",
      "Epoch 0:  80%|█████████████████▋    | 93/116 [05:41<01:24,  3.68s/it, loss=1.51]\u001b[A\n",
      "Epoch 0:  81%|█████████████████▊    | 94/116 [05:41<01:20,  3.64s/it, loss=1.51]\u001b[A\n",
      "Validation DataLoader 0:  19%|███▋               | 5/26 [00:02<00:12,  1.68it/s]\u001b[A\n",
      "Epoch 0:  82%|██████████████████    | 95/116 [05:42<01:15,  3.61s/it, loss=1.51]\u001b[A\n",
      "Validation DataLoader 0:  23%|████▍              | 6/26 [00:02<00:09,  2.17it/s]\u001b[A\n",
      "Epoch 0:  83%|██████████████████▏   | 96/116 [05:42<01:11,  3.57s/it, loss=1.51]\u001b[A\n",
      "Validation DataLoader 0:  27%|█████              | 7/26 [00:19<01:35,  5.05s/it]\u001b[A\n",
      "Epoch 0:  84%|██████████████████▍   | 97/116 [05:59<01:10,  3.70s/it, loss=1.51]\u001b[A\n",
      "Epoch 0:  84%|██████████████████▌   | 98/116 [05:59<01:05,  3.67s/it, loss=1.51]\u001b[A\n",
      "Validation DataLoader 0:  35%|██████▌            | 9/26 [00:22<00:59,  3.52s/it]\u001b[A\n",
      "Epoch 0:  85%|██████████████████▊   | 99/116 [06:02<01:02,  3.66s/it, loss=1.51]\u001b[A\n",
      "Epoch 0:  86%|██████████████████   | 100/116 [06:02<00:58,  3.63s/it, loss=1.51]\u001b[A\n",
      "Validation DataLoader 0:  42%|███████▌          | 11/26 [00:24<00:36,  2.41s/it]\u001b[A\n",
      "Epoch 0:  87%|██████████████████▎  | 101/116 [06:03<00:54,  3.60s/it, loss=1.51]\u001b[A\n",
      "Epoch 0:  88%|██████████████████▍  | 102/116 [06:03<00:49,  3.57s/it, loss=1.51]\u001b[A\n",
      "Validation DataLoader 0:  50%|█████████         | 13/26 [00:39<00:56,  4.33s/it]\u001b[A\n",
      "Epoch 0:  89%|██████████████████▋  | 103/116 [06:19<00:47,  3.68s/it, loss=1.51]\u001b[A\n",
      "Epoch 0:  90%|██████████████████▊  | 104/116 [06:19<00:43,  3.65s/it, loss=1.51]\u001b[A\n",
      "Validation DataLoader 0:  58%|██████████▍       | 15/26 [00:43<00:38,  3.51s/it]\u001b[A\n",
      "Epoch 0:  91%|███████████████████  | 105/116 [06:23<00:40,  3.65s/it, loss=1.51]\u001b[A\n",
      "Epoch 0:  91%|███████████████████▏ | 106/116 [06:23<00:36,  3.62s/it, loss=1.51]\u001b[A\n",
      "Epoch 0:  92%|███████████████████▎ | 107/116 [06:23<00:32,  3.58s/it, loss=1.51]\u001b[A\n",
      "Validation DataLoader 0:  69%|████████████▍     | 18/26 [00:43<00:16,  2.09s/it]\u001b[A\n",
      "Epoch 0:  93%|███████████████████▌ | 108/116 [06:23<00:28,  3.55s/it, loss=1.51]\u001b[A\n",
      "Validation DataLoader 0:  73%|█████████████▏    | 19/26 [00:59<00:30,  4.37s/it]\u001b[A\n",
      "Epoch 0:  94%|███████████████████▋ | 109/116 [06:39<00:25,  3.67s/it, loss=1.51]\u001b[A\n",
      "Epoch 0:  95%|███████████████████▉ | 110/116 [06:39<00:21,  3.63s/it, loss=1.51]\u001b[A\n",
      "Validation DataLoader 0:  81%|██████████████▌   | 21/26 [01:02<00:17,  3.42s/it]\u001b[A\n",
      "Epoch 0:  96%|████████████████████ | 111/116 [06:42<00:18,  3.62s/it, loss=1.51]\u001b[A\n",
      "Epoch 0:  97%|████████████████████▎| 112/116 [06:42<00:14,  3.59s/it, loss=1.51]\u001b[A\n",
      "Validation DataLoader 0:  88%|███████████████▉  | 23/26 [01:03<00:07,  2.52s/it]\u001b[A\n",
      "Epoch 0:  97%|████████████████████▍| 113/116 [06:43<00:10,  3.57s/it, loss=1.51]\u001b[A\n",
      "Epoch 0:  98%|████████████████████▋| 114/116 [06:43<00:07,  3.54s/it, loss=1.51]\u001b[A\n",
      "Validation DataLoader 0:  96%|█████████████████▎| 25/26 [01:17<00:03,  3.95s/it]\u001b[A\n",
      "Epoch 0:  99%|████████████████████▊| 115/116 [06:57<00:03,  3.63s/it, loss=1.51]\u001b[A\n",
      "Epoch 0: 100%|█████████████████████| 116/116 [06:57<00:00,  3.60s/it, loss=1.51]\u001b[A\n",
      "Epoch 1:  72%|███████████████▉      | 84/116 [04:57<01:53,  3.54s/it, loss=1.44]\u001b[A"
     ]
    }
   ],
   "source": [
    "run_name = f\"tra_2DBf_{now_str()}\"\n",
    "print(run_name)\n",
    "!serotiny train \\\n",
    "    model=classifier_2d_multiBF \\\n",
    "    data=dataloader_2d_multiBF \\\n",
    "    mlflow.experiment_name=eyeballExpress \\\n",
    "    mlflow.run_name={run_name} \\\n",
    "    trainer.gpus=[0] \\\n",
    "    trainer.max_epochs=5"
   ]
  },
  {
   "cell_type": "code",
   "execution_count": null,
   "id": "980102ab-5052-43dc-9a76-3ab3b8a2f194",
   "metadata": {},
   "outputs": [],
   "source": []
  }
 ],
 "metadata": {
  "kernelspec": {
   "display_name": "Python 3 (ipykernel)",
   "language": "python",
   "name": "python3"
  },
  "language_info": {
   "codemirror_mode": {
    "name": "ipython",
    "version": 3
   },
   "file_extension": ".py",
   "mimetype": "text/x-python",
   "name": "python",
   "nbconvert_exporter": "python",
   "pygments_lexer": "ipython3",
   "version": "3.10.6"
  }
 },
 "nbformat": 4,
 "nbformat_minor": 5
}
