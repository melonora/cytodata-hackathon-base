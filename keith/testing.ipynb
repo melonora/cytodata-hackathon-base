{
 "cells": [
  {
   "cell_type": "code",
   "execution_count": 4,
   "id": "b2315cbc-8574-4e96-b9aa-18b78fd0ecbf",
   "metadata": {},
   "outputs": [],
   "source": [
    "from upath import UPath as Path\n",
    "import pandas as pd\n",
    "import numpy as np\n",
    "import matplotlib.pyplot as plt\n",
    "import seaborn as sns\n",
    "import nbvv\n",
    "\n",
    "from serotiny.io.image import image_loader\n",
    "from cytodata_aics.io_utils import rescale_image"
   ]
  },
  {
   "cell_type": "code",
   "execution_count": 2,
   "id": "050440ca-49f8-4b53-ab07-7f3644f8f072",
   "metadata": {},
   "outputs": [
    {
     "name": "stdout",
     "output_type": "stream",
     "text": [
      "Number of cells: 214037\n",
      "Number of columns: 77\n"
     ]
    }
   ],
   "source": [
    "df = pd.read_parquet(\"s3://allencell-hipsc-cytodata/hackathon_manifest_17oct2022.parquet\")\n",
    "print(f'Number of cells: {len(df)}')\n",
    "print(f'Number of columns: {len(df.columns)}')"
   ]
  },
  {
   "cell_type": "code",
   "execution_count": 60,
   "id": "8acbb73b-f12b-4be9-89c7-47c80bfff8e0",
   "metadata": {},
   "outputs": [
    {
     "name": "stdout",
     "output_type": "stream",
     "text": [
      "Number of cells: 4240\n",
      "Number of columns: 79\n"
     ]
    }
   ],
   "source": [
    "#From Chapter 5\n",
    "#loading library, making path for \n",
    "from serotiny.transforms.dataframe.transforms import split_dataframe\n",
    "Path(\"/home/aicsuser/serotiny_data/\").mkdir(parents=True, exist_ok=True)\n",
    "\n",
    "# Sample n cells per group\n",
    "n = 2000 # number of cells per mitotic class\n",
    "cells_to_include=[]\n",
    "for name, group in df.groupby('cell_stage'):    \n",
    "    sampled_group = group.sample(min([n,len(group)]))\n",
    "    cells_to_include.append(sampled_group)\n",
    "df_mitocells = pd.concat(cells_to_include).reset_index(drop=True)\n",
    "\n",
    "# Discarding all the M6M7_single cells\n",
    "df_mitocells = df_mitocells.drop(df_mitocells[df_mitocells['cell_stage']=='M6M7_single'].index)\n",
    "\n",
    "df_mitocells['cell_stage_encoded'] = pd.factorize(df_mitocells['cell_stage'])[0]\n",
    "\n",
    "df_mitocells = df_mitocells[(df_mitocells['fits_x']==True) &\n",
    "               (df_mitocells['fits_y']==True) &\n",
    "               (df_mitocells['fits_z']==True)\n",
    "              ]\n",
    "df_mitocells_group = df_mitocells.groupby('cell_stage').sample(848)\n",
    "#df_mitocells_group.size()\n",
    "# # Add the train, test and validate split\n",
    "df_mitocells = split_dataframe(dataframe=df_mitocells_group, train_frac=0.7, val_frac=0.2, return_splits=False)\n",
    "\n",
    "df_mitocells.to_csv(\"/home/aicsuser/serotiny_data/keith_mitocells_balanced.csv\") \n",
    "print(f\"Number of cells: {len(df_mitocells)}\")\n",
    "print(f\"Number of columns: {len(df_mitocells.columns)}\")"
   ]
  },
  {
   "cell_type": "code",
   "execution_count": 61,
   "id": "8015eddf-213d-46c1-97a3-0f356ff808e8",
   "metadata": {},
   "outputs": [
    {
     "name": "stdout",
     "output_type": "stream",
     "text": [
      "['M0' 'M1M2' 'M3' 'M4M5' 'M6M7_complete']\n"
     ]
    }
   ],
   "source": [
    "class_count = df_mitocells[\"cell_stage\"].unique()\n",
    "print(class_count)"
   ]
  },
  {
   "cell_type": "code",
   "execution_count": 5,
   "id": "3e58dba1-4061-4b4d-9a97-137f3e167878",
   "metadata": {},
   "outputs": [
    {
     "name": "stdout",
     "output_type": "stream",
     "text": [
      "  cell_stage  cell_stage_encoded\n",
      "0         M0                   0\n",
      "1         M0                   0\n",
      "2         M0                   0\n",
      "3         M0                   0\n",
      "4         M0                   0\n"
     ]
    }
   ],
   "source": [
    "stages = df_mitocells[['cell_stage', 'cell_stage_encoded']].head()\n",
    "print(stages)"
   ]
  },
  {
   "cell_type": "code",
   "execution_count": 62,
   "id": "324d09e3-66c9-4e2a-b4a1-df9fa1c4d41e",
   "metadata": {},
   "outputs": [
    {
     "data": {
      "image/png": "[encoded data removed]",
      "text/plain": [
       "<Figure size 2000x700 with 1 Axes>"
      ]
     },
     "metadata": {},
     "output_type": "display_data"
    },
    {
     "name": "stdout",
     "output_type": "stream",
     "text": [
      "cell_stage\n",
      "M0               848\n",
      "M1M2             848\n",
      "M3               848\n",
      "M4M5             848\n",
      "M6M7_complete    848\n",
      "dtype: int64\n"
     ]
    }
   ],
   "source": [
    "# The bar plot again\n",
    "%matplotlib inline\n",
    "plt.style.use('seaborn-v0_8-white')   #print(plt.style.available)\n",
    "# Code from Chapter 4 to make a bar plot\n",
    "table = pd.pivot_table(df_mitocells, index=\"cell_stage\", aggfunc=\"size\")\n",
    "fig, axes = plt.subplots(figsize=(20, 7), dpi=100)\n",
    "table.plot.barh(stacked=True, ax=axes)\n",
    "axes.set_ylabel(None)\n",
    "axes.set_title(\"Structures and Cell Stage\")\n",
    "axes.grid(True, which=\"major\", axis=\"x\")\n",
    "axes.set_axisbelow(True)\n",
    "axes.invert_yaxis()\n",
    "plt.show()\n",
    "print(table)"
   ]
  },
  {
   "cell_type": "code",
   "execution_count": 65,
   "id": "9ee8b3ae-451e-46ba-8041-cee0a1bb4920",
   "metadata": {},
   "outputs": [],
   "source": [
    "# we need the commands we type to be ran from the serotiny project root\n",
    "# (because that's what `serotiny` expects) so we change directories here,\n",
    "# so we can run commands within the notebook\n",
    "import os\n",
    "os.chdir(\"/home/aicsuser/eyeball_express/cytodata-hackathon-base\")"
   ]
  },
  {
   "cell_type": "code",
   "execution_count": 66,
   "id": "e5e435de-d2cc-438b-ad8a-10bd2542c4f2",
   "metadata": {},
   "outputs": [],
   "source": [
    "from datetime import datetime\n",
    "\n",
    "# util to avoid referring to the same run unintentionally\n",
    "now_str = lambda : datetime.now().strftime(\"%Y%m%d_%H%M%S\")"
   ]
  },
  {
   "cell_type": "code",
   "execution_count": 67,
   "id": "ecbc6988-9dc7-4f92-a786-cfa55a1d8bf2",
   "metadata": {},
   "outputs": [
    {
     "name": "stdout",
     "output_type": "stream",
     "text": [
      "keith_bf_balancedTry_20221020_073539\n",
      "[2022-10-20 07:35:43,463][pytorch_lightning.utilities.seed][INFO] - Global seed set to 42\n",
      "[2022-10-20 07:35:43,464][serotiny.ml_ops.ml_ops][INFO] - Instantiating datamodule\n",
      "[2022-10-20 07:35:45,801][serotiny.ml_ops.ml_ops][INFO] - Instantiating trainer\n",
      "[2022-10-20 07:35:45,835][pytorch_lightning.utilities.rank_zero][INFO] - GPU available: True, used: True\n",
      "[2022-10-20 07:35:45,836][pytorch_lightning.utilities.rank_zero][INFO] - TPU available: False, using: 0 TPU cores\n",
      "[2022-10-20 07:35:45,836][pytorch_lightning.utilities.rank_zero][INFO] - IPU available: False, using: 0 IPUs\n",
      "[2022-10-20 07:35:45,836][pytorch_lightning.utilities.rank_zero][INFO] - HPU available: False, using: 0 HPUs\n",
      "[2022-10-20 07:35:45,836][serotiny.ml_ops.ml_ops][INFO] - Instantiating model\n",
      "/opt/conda/lib/python3.10/site-packages/torch/nn/modules/lazy.py:178: UserWarning: Lazy modules are a new feature under heavy development so changes to the API or functionality can happen at any moment.\n",
      "  warnings.warn('Lazy modules are a new feature under heavy development '\n",
      "[2022-10-20 07:35:45,877][torch.distributed.nn.jit.instantiator][INFO] - Created a temporary directory at /tmp/tmpra7c0rnu\n",
      "[2022-10-20 07:35:45,878][torch.distributed.nn.jit.instantiator][INFO] - Writing /tmp/tmpra7c0rnu/_remote_module_non_scriptable.py\n",
      "[2022-10-20 07:35:45,893][serotiny.ml_ops.mlflow_utils][INFO] - Validating and processing MLFlow configuration\n",
      "/opt/conda/lib/python3.10/site-packages/serotiny/ml_ops/mlflow_utils.py:156: FutureWarning: ``mlflow.tracking.fluent.list_run_infos`` is deprecated. This method will be removed in a future release. Use ``search_runs()`` instead.\n",
      "  for run_info in mlflow.list_run_infos(experiment_id=experiment_id):\n",
      "/opt/conda/lib/python3.10/site-packages/mlflow/tracking/fluent.py:1599: FutureWarning: ``mlflow.tracking.client.MlflowClient.list_run_infos`` is deprecated. This method will be removed in a future release. Use ``search_runs()`` instead.\n",
      "  return MlflowClient().list_run_infos(\n",
      "[2022-10-20 07:35:46,450][serotiny.ml_ops.mlflow_utils][INFO] - Calling trainer.fit\n",
      "[2022-10-20 07:35:48,926][pytorch_lightning.accelerators.gpu][INFO] - LOCAL_RANK: 0 - CUDA_VISIBLE_DEVICES: [0]\n",
      "/opt/conda/lib/python3.10/site-packages/pytorch_lightning/utilities/model_summary.py:407: UserWarning: A layer with UninitializedParameter was found. Thus, the total number of parameters detected may be inaccurate.\n",
      "  warning_cache.warn(\n",
      "[2022-10-20 07:35:48,928][pytorch_lightning.callbacks.model_summary][INFO] - \n",
      "  | Name    | Type             | Params\n",
      "---------------------------------------------\n",
      "0 | network | Sequential       | 0     \n",
      "1 | loss    | CrossEntropyLoss | 0     \n",
      "---------------------------------------------\n",
      "0         Trainable params\n",
      "0         Non-trainable params\n",
      "0         Total params\n",
      "0.000     Total estimated model params size (MB)\n",
      "Epoch 0:  77%|█████████████████▋     | 47/61 [02:18<00:41,  2.95s/it, loss=1.15]\n",
      "Epoch 0:  77%|█████████████████▋     | 47/61 [02:30<00:44,  3.20s/it, loss=1.15]\n",
      "Validation:   0%|                                        | 0/14 [00:00<?, ?it/s]\u001b[A\n",
      "Validation DataLoader 0:   0%|                           | 0/14 [00:00<?, ?it/s]\u001b[A\n",
      "Epoch 0:  79%|██████████████████     | 48/61 [02:42<00:44,  3.39s/it, loss=1.15]\u001b[A\n",
      "Epoch 0:  80%|██████████████████▍    | 49/61 [02:42<00:39,  3.32s/it, loss=1.15]\u001b[A\n",
      "Epoch 0:  82%|██████████████████▊    | 50/61 [02:42<00:35,  3.26s/it, loss=1.15]\u001b[A\n",
      "Epoch 0:  84%|███████████████████▏   | 51/61 [02:42<00:31,  3.19s/it, loss=1.15]\u001b[A\n",
      "Epoch 0:  85%|███████████████████▌   | 52/61 [02:42<00:28,  3.13s/it, loss=1.15]\u001b[A\n",
      "Validation DataLoader 0:  43%|████████▏          | 6/14 [00:00<00:00, 53.61it/s]\u001b[A\n",
      "Epoch 0:  87%|███████████████████▉   | 53/61 [02:42<00:24,  3.07s/it, loss=1.15]\u001b[A\n",
      "Epoch 0:  89%|████████████████████▎  | 54/61 [02:58<00:23,  3.31s/it, loss=1.15]\u001b[A\n",
      "Epoch 0:  90%|████████████████████▋  | 55/61 [02:58<00:19,  3.25s/it, loss=1.15]\u001b[A\n",
      "Epoch 0:  92%|█████████████████████  | 56/61 [02:58<00:15,  3.19s/it, loss=1.15]\u001b[A\n",
      "Epoch 0:  93%|█████████████████████▍ | 57/61 [02:58<00:12,  3.14s/it, loss=1.15]\u001b[A\n",
      "Epoch 0:  95%|█████████████████████▊ | 58/61 [02:58<00:09,  3.08s/it, loss=1.15]\u001b[A\n",
      "Validation DataLoader 0:  86%|███████████████▍  | 12/14 [00:16<00:03,  1.57s/it]\u001b[A\n",
      "Epoch 0:  97%|██████████████████████▏| 59/61 [02:58<00:06,  3.03s/it, loss=1.15]\u001b[A\n",
      "Validation DataLoader 0:  93%|████████████████▋ | 13/14 [00:29<00:02,  2.98s/it]\u001b[A\n",
      "Epoch 0:  98%|██████████████████████▌| 60/61 [03:11<00:03,  3.20s/it, loss=1.15]\u001b[A\n",
      "Epoch 0: 100%|███████████████████████| 61/61 [03:11<00:00,  3.15s/it, loss=1.15]\u001b[A\n",
      "Epoch 1:  77%|████████████████▉     | 47/61 [02:13<00:39,  2.85s/it, loss=0.952]\u001b[A\n",
      "Epoch 1:  77%|████████████████▉     | 47/61 [02:28<00:44,  3.15s/it, loss=0.952]\n",
      "Validation:   0%|                                        | 0/14 [00:00<?, ?it/s]\u001b[A\n",
      "Validation DataLoader 0:   0%|                           | 0/14 [00:00<?, ?it/s]\u001b[A\n",
      "Epoch 1:  79%|█████████████████▎    | 48/61 [02:37<00:42,  3.29s/it, loss=0.952]\u001b[A\n",
      "Epoch 1:  80%|█████████████████▋    | 49/61 [02:37<00:38,  3.22s/it, loss=0.952]\u001b[A\n",
      "Epoch 1:  82%|██████████████████    | 50/61 [02:37<00:34,  3.16s/it, loss=0.952]\u001b[A\n",
      "Epoch 1:  84%|██████████████████▍   | 51/61 [02:37<00:30,  3.09s/it, loss=0.952]\u001b[A\n",
      "Epoch 1:  85%|██████████████████▊   | 52/61 [02:37<00:27,  3.04s/it, loss=0.952]\u001b[A\n",
      "Validation DataLoader 0:  43%|████████▏          | 6/14 [00:00<00:00, 53.28it/s]\u001b[A\n",
      "Epoch 1:  87%|███████████████████   | 53/61 [02:48<00:25,  3.17s/it, loss=0.952]\u001b[A\n",
      "Validation DataLoader 0:  43%|████████▏          | 6/14 [00:10<00:00, 53.28it/s]\u001b[A\n",
      "Validation DataLoader 0:  50%|█████████▌         | 7/14 [00:14<00:18,  2.69s/it]\u001b[A\n",
      "Epoch 1:  89%|███████████████████▍  | 54/61 [02:51<00:22,  3.18s/it, loss=0.952]\u001b[A\n",
      "Epoch 1:  90%|███████████████████▊  | 55/61 [02:51<00:18,  3.12s/it, loss=0.952]\u001b[A\n",
      "Epoch 1:  92%|████████████████████▏ | 56/61 [02:51<00:15,  3.07s/it, loss=0.952]\u001b[A\n",
      "Epoch 1:  93%|████████████████████▌ | 57/61 [02:51<00:12,  3.01s/it, loss=0.952]\u001b[A\n",
      "Epoch 1:  95%|████████████████████▉ | 58/61 [02:51<00:08,  2.96s/it, loss=0.952]\u001b[A\n",
      "Epoch 1:  97%|█████████████████████▎| 59/61 [02:51<00:05,  2.91s/it, loss=0.952]\u001b[A\n",
      "Validation DataLoader 0:  93%|████████████████▋ | 13/14 [00:27<00:02,  2.41s/it]\u001b[A\n",
      "Epoch 1:  98%|█████████████████████▋| 60/61 [03:05<00:03,  3.09s/it, loss=0.952]\u001b[A\n",
      "Epoch 1: 100%|██████████████████████| 61/61 [03:05<00:00,  3.04s/it, loss=0.952]\u001b[A\n",
      "Epoch 2:  77%|████████████████▉     | 47/61 [02:06<00:37,  2.70s/it, loss=0.891]\u001b[A\n",
      "Epoch 2:  77%|████████████████▉     | 47/61 [02:22<00:42,  3.04s/it, loss=0.891]\n",
      "Validation:   0%|                                        | 0/14 [00:00<?, ?it/s]\u001b[A\n",
      "Validation DataLoader 0:   0%|                           | 0/14 [00:00<?, ?it/s]\u001b[A\n",
      "Epoch 2:  79%|█████████████████▎    | 48/61 [02:26<00:39,  3.05s/it, loss=0.891]\u001b[A\n",
      "Validation DataLoader 0:  14%|██▋                | 2/14 [00:03<00:18,  1.51s/it]\u001b[A\n",
      "Epoch 2:  80%|█████████████████▋    | 49/61 [02:29<00:36,  3.05s/it, loss=0.891]\u001b[A\n",
      "Epoch 2:  82%|██████████████████    | 50/61 [02:29<00:32,  2.99s/it, loss=0.891]\u001b[A\n",
      "Epoch 2:  84%|██████████████████▍   | 51/61 [02:29<00:29,  2.93s/it, loss=0.891]\u001b[A\n",
      "Epoch 2:  85%|██████████████████▊   | 52/61 [02:29<00:25,  2.88s/it, loss=0.891]\u001b[A\n",
      "Epoch 2:  87%|███████████████████   | 53/61 [02:29<00:22,  2.82s/it, loss=0.891]\u001b[A\n",
      "Validation DataLoader 0:  50%|█████████▌         | 7/14 [00:13<00:13,  1.97s/it]\u001b[A\n",
      "Epoch 2:  89%|███████████████████▍  | 54/61 [02:40<00:20,  2.97s/it, loss=0.891]\u001b[A\n",
      "Validation DataLoader 0:  57%|██████████▊        | 8/14 [00:17<00:13,  2.25s/it]\u001b[A\n",
      "Epoch 2:  90%|███████████████████▊  | 55/61 [02:43<00:17,  2.97s/it, loss=0.891]\u001b[A\n",
      "Epoch 2:  92%|████████████████████▏ | 56/61 [02:43<00:14,  2.92s/it, loss=0.891]\u001b[A\n",
      "Epoch 2:  93%|████████████████████▌ | 57/61 [02:43<00:11,  2.87s/it, loss=0.891]\u001b[A\n",
      "Epoch 2:  95%|████████████████████▉ | 58/61 [02:43<00:08,  2.82s/it, loss=0.891]\u001b[A\n",
      "Epoch 2:  97%|█████████████████████▎| 59/61 [02:43<00:05,  2.77s/it, loss=0.891]\u001b[A\n",
      "Validation DataLoader 0:  93%|████████████████▋ | 13/14 [00:25<00:01,  1.95s/it]\u001b[A\n",
      "Epoch 2:  98%|█████████████████████▋| 60/61 [02:52<00:02,  2.87s/it, loss=0.891]\u001b[A\n",
      "Epoch 2: 100%|██████████████████████| 61/61 [02:52<00:00,  2.82s/it, loss=0.891]\u001b[A\n",
      "Epoch 5:  77%|████████████████▉     | 47/61 [02:01<00:36,  2.58s/it, loss=0.704]\u001b[A\n",
      "Epoch 5:  77%|████████████████▉     | 47/61 [02:13<00:39,  2.83s/it, loss=0.704]\n",
      "Validation:   0%|                                        | 0/14 [00:00<?, ?it/s]\u001b[A\n",
      "Validation DataLoader 0:   0%|                           | 0/14 [00:00<?, ?it/s]\u001b[A\n",
      "Epoch 5:  79%|█████████████████▎    | 48/61 [02:21<00:38,  2.94s/it, loss=0.704]\u001b[A\n",
      "Epoch 5:  80%|█████████████████▋    | 49/61 [02:21<00:34,  2.88s/it, loss=0.704]\u001b[A\n",
      "Epoch 5:  82%|██████████████████    | 50/61 [02:21<00:31,  2.82s/it, loss=0.704]\u001b[A\n",
      "Epoch 5:  84%|██████████████████▍   | 51/61 [02:21<00:27,  2.77s/it, loss=0.704]\u001b[A\n",
      "Epoch 5:  85%|██████████████████▊   | 52/61 [02:21<00:24,  2.71s/it, loss=0.704]\u001b[A\n",
      "Validation DataLoader 0:  43%|████████▏          | 6/14 [00:00<00:00, 55.33it/s]\u001b[A\n",
      "Epoch 5:  87%|███████████████████   | 53/61 [02:33<00:23,  2.89s/it, loss=0.704]\u001b[A\n",
      "Validation DataLoader 0:  43%|████████▏          | 6/14 [00:12<00:00, 55.33it/s]\u001b[A\n",
      "Validation DataLoader 0:  50%|█████████▌         | 7/14 [00:15<00:20,  2.92s/it]\u001b[A\n",
      "Epoch 5:  89%|███████████████████▍  | 54/61 [02:36<00:20,  2.89s/it, loss=0.704]\u001b[A\n",
      "Epoch 5:  90%|███████████████████▊  | 55/61 [02:36<00:17,  2.84s/it, loss=0.704]\u001b[A\n",
      "Epoch 5:  92%|████████████████████▏ | 56/61 [02:36<00:13,  2.79s/it, loss=0.704]\u001b[A\n",
      "Epoch 5:  93%|████████████████████▌ | 57/61 [02:36<00:10,  2.74s/it, loss=0.704]\u001b[A\n",
      "Epoch 5:  95%|████████████████████▉ | 58/61 [02:36<00:08,  2.70s/it, loss=0.704]\u001b[A\n",
      "Epoch 5:  97%|█████████████████████▎| 59/61 [02:36<00:05,  2.65s/it, loss=0.704]\u001b[A\n",
      "Validation DataLoader 0:  93%|████████████████▋ | 13/14 [00:28<00:02,  2.46s/it]\u001b[A\n",
      "Epoch 5:  98%|█████████████████████▋| 60/61 [02:49<00:02,  2.82s/it, loss=0.704]\u001b[A\n",
      "Epoch 5: 100%|██████████████████████| 61/61 [02:49<00:00,  2.78s/it, loss=0.704]\u001b[A\n",
      "Epoch 6:  77%|████████████████▉     | 47/61 [02:02<00:36,  2.61s/it, loss=0.657]\u001b[A\n",
      "Epoch 6:  77%|████████████████▉     | 47/61 [02:13<00:39,  2.84s/it, loss=0.657]\n",
      "Validation:   0%|                                        | 0/14 [00:00<?, ?it/s]\u001b[A\n",
      "Validation DataLoader 0:   0%|                           | 0/14 [00:00<?, ?it/s]\u001b[A\n",
      "Epoch 6:  79%|█████████████████▎    | 48/61 [02:23<00:38,  2.98s/it, loss=0.657]\u001b[A\n",
      "Epoch 6:  80%|█████████████████▋    | 49/61 [02:23<00:35,  2.92s/it, loss=0.657]\u001b[A\n",
      "Epoch 6:  82%|██████████████████    | 50/61 [02:23<00:31,  2.86s/it, loss=0.657]\u001b[A\n",
      "Epoch 6:  84%|██████████████████▍   | 51/61 [02:23<00:28,  2.81s/it, loss=0.657]\u001b[A\n",
      "Epoch 6:  85%|██████████████████▊   | 52/61 [02:23<00:24,  2.75s/it, loss=0.657]\u001b[A\n",
      "Validation DataLoader 0:  43%|████████▏          | 6/14 [00:00<00:00, 53.06it/s]\u001b[A\n",
      "Epoch 6:  87%|███████████████████   | 53/61 [02:33<00:23,  2.90s/it, loss=0.657]\u001b[A\n",
      "Validation DataLoader 0:  43%|████████▏          | 6/14 [00:10<00:00, 53.06it/s]\u001b[A\n",
      "Validation DataLoader 0:  50%|█████████▌         | 7/14 [00:12<00:17,  2.47s/it]\u001b[A\n",
      "Epoch 6:  89%|███████████████████▍  | 54/61 [02:35<00:20,  2.89s/it, loss=0.657]\u001b[A\n",
      "Epoch 6:  90%|███████████████████▊  | 55/61 [02:35<00:17,  2.84s/it, loss=0.657]\u001b[A\n",
      "Epoch 6:  92%|████████████████████▏ | 56/61 [02:35<00:13,  2.79s/it, loss=0.657]\u001b[A\n",
      "Epoch 6:  93%|████████████████████▌ | 57/61 [02:36<00:10,  2.74s/it, loss=0.657]\u001b[A\n",
      "Epoch 6:  95%|████████████████████▉ | 58/61 [02:36<00:08,  2.69s/it, loss=0.657]\u001b[A\n",
      "Epoch 6:  97%|█████████████████████▎| 59/61 [02:36<00:05,  2.64s/it, loss=0.657]\u001b[A\n",
      "Validation DataLoader 0:  93%|████████████████▋ | 13/14 [00:24<00:02,  2.18s/it]\u001b[A\n",
      "Epoch 6:  98%|█████████████████████▋| 60/61 [02:47<00:02,  2.80s/it, loss=0.657]\u001b[A\n",
      "Epoch 6: 100%|██████████████████████| 61/61 [02:47<00:00,  2.75s/it, loss=0.657]\u001b[A\n",
      "Epoch 7:  77%|████████████████▉     | 47/61 [02:00<00:35,  2.57s/it, loss=0.609]\u001b[A\n",
      "Epoch 7:  77%|████████████████▉     | 47/61 [02:15<00:40,  2.88s/it, loss=0.609]\n",
      "Validation:   0%|                                        | 0/14 [00:00<?, ?it/s]\u001b[A\n",
      "Validation DataLoader 0:   0%|                           | 0/14 [00:00<?, ?it/s]\u001b[A\n",
      "Epoch 7:  79%|█████████████████▎    | 48/61 [02:17<00:37,  2.86s/it, loss=0.609]\u001b[A\n",
      "Epoch 7:  80%|█████████████████▋    | 49/61 [02:17<00:33,  2.80s/it, loss=0.609]\u001b[A\n",
      "Validation DataLoader 0:  21%|████               | 3/14 [00:01<00:06,  1.64it/s]\u001b[A\n",
      "Epoch 7:  82%|██████████████████    | 50/61 [02:18<00:30,  2.78s/it, loss=0.609]\u001b[A\n",
      "Epoch 7:  84%|██████████████████▍   | 51/61 [02:19<00:27,  2.73s/it, loss=0.609]\u001b[A\n",
      "Epoch 7:  85%|██████████████████▊   | 52/61 [02:19<00:24,  2.67s/it, loss=0.609]\u001b[A\n",
      "Epoch 7:  87%|███████████████████   | 53/61 [02:19<00:20,  2.62s/it, loss=0.609]\u001b[A\n",
      "Validation DataLoader 0:  50%|█████████▌         | 7/14 [00:14<00:15,  2.22s/it]\u001b[A\n",
      "Epoch 7:  89%|███████████████████▍  | 54/61 [02:31<00:19,  2.80s/it, loss=0.609]\u001b[A\n",
      "Epoch 7:  90%|███████████████████▊  | 55/61 [02:31<00:16,  2.75s/it, loss=0.609]\u001b[A\n",
      "Validation DataLoader 0:  64%|████████████▏      | 9/14 [00:15<00:08,  1.78s/it]\u001b[A\n",
      "Epoch 7:  92%|████████████████████▏ | 56/61 [02:32<00:13,  2.73s/it, loss=0.609]\u001b[A\n",
      "Epoch 7:  93%|████████████████████▌ | 57/61 [02:32<00:10,  2.68s/it, loss=0.609]\u001b[A\n",
      "Epoch 7:  95%|████████████████████▉ | 58/61 [02:32<00:07,  2.64s/it, loss=0.609]\u001b[A\n",
      "Epoch 7:  97%|█████████████████████▎| 59/61 [02:33<00:05,  2.59s/it, loss=0.609]\u001b[A\n",
      "Validation DataLoader 0:  93%|████████████████▋ | 13/14 [00:27<00:02,  2.30s/it]\u001b[A\n",
      "Epoch 7:  98%|█████████████████████▋| 60/61 [02:44<00:02,  2.74s/it, loss=0.609]\u001b[A\n",
      "Epoch 7: 100%|██████████████████████| 61/61 [02:44<00:00,  2.70s/it, loss=0.609]\u001b[A\n",
      "Epoch 7: 100%|██████████████████████| 61/61 [02:44<00:00,  2.70s/it, loss=0.609]\u001b[A\n",
      "2022/10/20 07:59:38 WARNING mlflow.utils.requirements_utils: Found torch version (1.12.1+cu113) contains a local version label (+cu113). MLflow logged a pip requirement for this package as 'torch==1.12.1' without the local version label to make it installable from PyPI. To specify pip requirements containing local version labels, please use `conda_env` or `pip_requirements`.\n",
      "2022/10/20 07:59:46 WARNING mlflow.utils.requirements_utils: Found torchvision version (0.13.1+cu113) contains a local version label (+cu113). MLflow logged a pip requirement for this package as 'torchvision==0.13.1' without the local version label to make it installable from PyPI. To specify pip requirements containing local version labels, please use `conda_env` or `pip_requirements`.\n",
      "2022/10/20 07:59:46 WARNING mlflow.utils.autologging_utils: MLflow autologging encountered a warning: \"/opt/conda/lib/python3.10/site-packages/_distutils_hack/__init__.py:33: UserWarning: Setuptools is replacing distutils.\"\n"
     ]
    }
   ],
   "source": [
    "run_name = f\"keith_bf_balancedTry_{now_str()}\"\n",
    "print(run_name)\n",
    "\n",
    "!serotiny train \\\n",
    "    model=brightfield_classifier_3d \\\n",
    "    data=brightfield_dataloader_3d \\\n",
    "    mlflow.experiment_name=eyeballExpress \\\n",
    "    mlflow.run_name={run_name} \\\n",
    "    trainer.gpus=[0] \\\n",
    "    trainer.max_epochs=8"
   ]
  },
  {
   "cell_type": "code",
   "execution_count": 2,
   "id": "faad9501-d19b-4c40-a35c-2e3c379b824a",
   "metadata": {},
   "outputs": [],
   "source": [
    "import mlflow\n",
    "from serotiny.ml_ops.mlflow_utils import download_artifact"
   ]
  },
  {
   "cell_type": "code",
   "execution_count": 1,
   "id": "1eb41d80-2cf5-4ab2-9da7-2b2f6fd95168",
   "metadata": {},
   "outputs": [
    {
     "ename": "NameError",
     "evalue": "name 'run_name' is not defined",
     "output_type": "error",
     "traceback": [
      "\u001b[0;31m---------------------------------------------------------------------------\u001b[0m",
      "\u001b[0;31mNameError\u001b[0m                                 Traceback (most recent call last)",
      "Cell \u001b[0;32mIn [1], line 1\u001b[0m\n\u001b[0;32m----> 1\u001b[0m \u001b[38;5;28mprint\u001b[39m(\u001b[43mrun_name\u001b[49m)\n",
      "\u001b[0;31mNameError\u001b[0m: name 'run_name' is not defined"
     ]
    }
   ],
   "source": [
    "print(run_name)"
   ]
  },
  {
   "cell_type": "code",
   "execution_count": 69,
   "id": "659ec33c-a7d6-4aaf-ae0d-a49e33c2b0bf",
   "metadata": {},
   "outputs": [
    {
     "name": "stdout",
     "output_type": "stream",
     "text": [
      "[2022-10-20 08:05:04,268][pytorch_lightning.utilities.seed][INFO] - Global seed set to 42\n",
      "[2022-10-20 08:05:04,268][serotiny.ml_ops.ml_ops][INFO] - Instantiating datamodule\n",
      "[2022-10-20 08:05:06,598][serotiny.ml_ops.ml_ops][INFO] - Instantiating trainer\n",
      "/opt/conda/lib/python3.10/site-packages/pytorch_lightning/loops/utilities.py:91: PossibleUserWarning: `max_epochs` was not set. Setting it to 1000 epochs. To train without an epoch limit, set `max_epochs=-1`.\n",
      "  rank_zero_warn(\n",
      "[2022-10-20 08:05:06,632][pytorch_lightning.utilities.rank_zero][INFO] - GPU available: True, used: True\n",
      "[2022-10-20 08:05:06,632][pytorch_lightning.utilities.rank_zero][INFO] - TPU available: False, using: 0 TPU cores\n",
      "[2022-10-20 08:05:06,632][pytorch_lightning.utilities.rank_zero][INFO] - IPU available: False, using: 0 IPUs\n",
      "[2022-10-20 08:05:06,633][pytorch_lightning.utilities.rank_zero][INFO] - HPU available: False, using: 0 HPUs\n",
      "[2022-10-20 08:05:06,633][serotiny.ml_ops.ml_ops][INFO] - Instantiating model\n",
      "/opt/conda/lib/python3.10/site-packages/torch/nn/modules/lazy.py:178: UserWarning: Lazy modules are a new feature under heavy development so changes to the API or functionality can happen at any moment.\n",
      "  warnings.warn('Lazy modules are a new feature under heavy development '\n",
      "[2022-10-20 08:05:06,674][torch.distributed.nn.jit.instantiator][INFO] - Created a temporary directory at /tmp/tmpruynkjbu\n",
      "[2022-10-20 08:05:06,674][torch.distributed.nn.jit.instantiator][INFO] - Writing /tmp/tmpruynkjbu/_remote_module_non_scriptable.py\n",
      "[2022-10-20 08:05:06,689][serotiny.ml_ops.mlflow_utils][INFO] - Validating and processing MLFlow configuration\n",
      "/opt/conda/lib/python3.10/site-packages/serotiny/ml_ops/mlflow_utils.py:156: FutureWarning: ``mlflow.tracking.fluent.list_run_infos`` is deprecated. This method will be removed in a future release. Use ``search_runs()`` instead.\n",
      "  for run_info in mlflow.list_run_infos(experiment_id=experiment_id):\n",
      "/opt/conda/lib/python3.10/site-packages/mlflow/tracking/fluent.py:1599: FutureWarning: ``mlflow.tracking.client.MlflowClient.list_run_infos`` is deprecated. This method will be removed in a future release. Use ``search_runs()`` instead.\n",
      "  return MlflowClient().list_run_infos(\n",
      "[2022-10-20 08:05:07,541][serotiny.ml_ops.mlflow_utils][INFO] - Calling trainer.predict\n",
      "[2022-10-20 08:05:10,040][pytorch_lightning.accelerators.gpu][INFO] - LOCAL_RANK: 0 - CUDA_VISIBLE_DEVICES: [0]\n",
      "Predicting DataLoader 0: 100%|██████████████████| 67/67 [02:49<00:00,  2.53s/it]\n",
      "2022/10/20 08:08:20 WARNING mlflow.utils.requirements_utils: Found torch version (1.12.1+cu113) contains a local version label (+cu113). MLflow logged a pip requirement for this package as 'torch==1.12.1' without the local version label to make it installable from PyPI. To specify pip requirements containing local version labels, please use `conda_env` or `pip_requirements`.\n",
      "2022/10/20 08:08:27 WARNING mlflow.utils.requirements_utils: Found torchvision version (0.13.1+cu113) contains a local version label (+cu113). MLflow logged a pip requirement for this package as 'torchvision==0.13.1' without the local version label to make it installable from PyPI. To specify pip requirements containing local version labels, please use `conda_env` or `pip_requirements`.\n",
      "2022/10/20 08:08:27 WARNING mlflow.utils.autologging_utils: MLflow autologging encountered a warning: \"/opt/conda/lib/python3.10/site-packages/_distutils_hack/__init__.py:33: UserWarning: Setuptools is replacing distutils.\"\n"
     ]
    }
   ],
   "source": [
    "!serotiny predict \\\n",
    "    model=brightfield_classifier_3d \\\n",
    "    data=brightfield_dataloader_3d \\\n",
    "    mlflow.experiment_name=eyeballExpress \\\n",
    "    mlflow.run_name={run_name} \\\n",
    "    trainer.gpus=[0]"
   ]
  },
  {
   "cell_type": "code",
   "execution_count": 9,
   "id": "d3053305-8dd1-474a-929a-cec0293c2cf0",
   "metadata": {},
   "outputs": [
    {
     "name": "stdout",
     "output_type": "stream",
     "text": [
      "Please specify --config-dir in the command line, or run serotiny from within a serotiny project.\n"
     ]
    }
   ],
   "source": [
    "# don't run\n",
    "!serotiny predict \\\n",
    "    model=brightfield_classifier_3d \\\n",
    "    data=brightfield_dataloader_3d \\\n",
    "    mlflow.experiment_name=cytodata_chapter5 \\\n",
    "    mlflow.run_name={\"keith_bf_test6_20221020_013836\"} \\\n",
    "    trainer.gpus=[0]"
   ]
  },
  {
   "cell_type": "code",
   "execution_count": 5,
   "id": "d47fede6-f12f-40e1-a0f1-7736ae8ebc53",
   "metadata": {},
   "outputs": [
    {
     "name": "stderr",
     "output_type": "stream",
     "text": [
      "/opt/conda/lib/python3.10/site-packages/serotiny/ml_ops/mlflow_utils.py:144: FutureWarning: ``mlflow.tracking.fluent.list_experiments`` is deprecated. This method will be removed in a future release. Use ``search_experiments()`` instead.\n",
      "  for _experiment in mlflow.list_experiments():\n",
      "/opt/conda/lib/python3.10/site-packages/mlflow/tracking/fluent.py:1066: FutureWarning: ``mlflow.tracking.client.MlflowClient.list_experiments`` is deprecated. This method will be removed in a future release. Use ``search_experiments()`` instead.\n",
      "  return MlflowClient().list_experiments(\n",
      "/opt/conda/lib/python3.10/site-packages/serotiny/ml_ops/mlflow_utils.py:156: FutureWarning: ``mlflow.tracking.fluent.list_run_infos`` is deprecated. This method will be removed in a future release. Use ``search_runs()`` instead.\n",
      "  for run_info in mlflow.list_run_infos(experiment_id=experiment_id):\n",
      "/opt/conda/lib/python3.10/site-packages/mlflow/tracking/fluent.py:1599: FutureWarning: ``mlflow.tracking.client.MlflowClient.list_run_infos`` is deprecated. This method will be removed in a future release. Use ``search_runs()`` instead.\n",
      "  return MlflowClient().list_run_infos(\n"
     ]
    }
   ],
   "source": [
    "mlflow.set_tracking_uri(\"http://mlflow.mlflow.svc.cluster.local\")\n",
    "\n",
    "with download_artifact(\"predictions/model_predictions_multiclass.csv\", experiment_name=\"eyeballExpress\", run_name=\"keith_bf_balancedTry_20221020_073539\") as path:\n",
    "    predictions_3d_df = pd.read_csv(path)\n",
    "\n",
    "#with download_artifact(\"predictions/model_predictions_multiclass.csv\", experiment_name=\"cytodata_chapter5\", run_name=\"keith_bf_test6_20221020_013836\") as path:\n",
    "#    predictions_3d_df = pd.read_csv(path)"
   ]
  },
  {
   "cell_type": "code",
   "execution_count": 7,
   "id": "07d8608a-58df-45fb-b295-fda0b9235fa5",
   "metadata": {},
   "outputs": [
    {
     "data": {
      "text/html": [
       "<div>\n",
       "<style scoped>\n",
       "    .dataframe tbody tr th:only-of-type {\n",
       "        vertical-align: middle;\n",
       "    }\n",
       "\n",
       "    .dataframe tbody tr th {\n",
       "        vertical-align: top;\n",
       "    }\n",
       "\n",
       "    .dataframe thead th {\n",
       "        text-align: right;\n",
       "    }\n",
       "</style>\n",
       "<table border=\"1\" class=\"dataframe\">\n",
       "  <thead>\n",
       "    <tr style=\"text-align: right;\">\n",
       "      <th></th>\n",
       "      <th>id</th>\n",
       "      <th>y</th>\n",
       "      <th>yhat</th>\n",
       "      <th>loss</th>\n",
       "      <th>split</th>\n",
       "    </tr>\n",
       "  </thead>\n",
       "  <tbody>\n",
       "    <tr>\n",
       "      <th>0</th>\n",
       "      <td>858338</td>\n",
       "      <td>0</td>\n",
       "      <td>0</td>\n",
       "      <td>0.391378</td>\n",
       "      <td>valid</td>\n",
       "    </tr>\n",
       "    <tr>\n",
       "      <th>1</th>\n",
       "      <td>799720</td>\n",
       "      <td>0</td>\n",
       "      <td>0</td>\n",
       "      <td>0.391378</td>\n",
       "      <td>test</td>\n",
       "    </tr>\n",
       "    <tr>\n",
       "      <th>2</th>\n",
       "      <td>699108</td>\n",
       "      <td>0</td>\n",
       "      <td>0</td>\n",
       "      <td>0.391378</td>\n",
       "      <td>train</td>\n",
       "    </tr>\n",
       "    <tr>\n",
       "      <th>3</th>\n",
       "      <td>271014</td>\n",
       "      <td>0</td>\n",
       "      <td>0</td>\n",
       "      <td>0.391378</td>\n",
       "      <td>train</td>\n",
       "    </tr>\n",
       "    <tr>\n",
       "      <th>4</th>\n",
       "      <td>897150</td>\n",
       "      <td>0</td>\n",
       "      <td>0</td>\n",
       "      <td>0.391378</td>\n",
       "      <td>test</td>\n",
       "    </tr>\n",
       "  </tbody>\n",
       "</table>\n",
       "</div>"
      ],
      "text/plain": [
       "       id  y  yhat      loss  split\n",
       "0  858338  0     0  0.391378  valid\n",
       "1  799720  0     0  0.391378   test\n",
       "2  699108  0     0  0.391378  train\n",
       "3  271014  0     0  0.391378  train\n",
       "4  897150  0     0  0.391378   test"
      ]
     },
     "execution_count": 7,
     "metadata": {},
     "output_type": "execute_result"
    }
   ],
   "source": [
    "df_mitocells = pd.read_csv(\"/home/aicsuser/serotiny_data/keith_mitocells_balanced.csv\")\n",
    "\n",
    "predictions_3d_df = predictions_3d_df.merge(df_mitocells[['CellId','split']].rename(columns={'CellId':'id'}), on = 'id')\n",
    "predictions_3d_df.head()"
   ]
  },
  {
   "cell_type": "code",
   "execution_count": 8,
   "id": "4566e7e4-079a-4ddf-ae4b-d87419675c2a",
   "metadata": {},
   "outputs": [
    {
     "data": {
      "image/png": "[encoded data removed]",
      "text/plain": [
       "<Figure size 1000x300 with 6 Axes>"
      ]
     },
     "metadata": {},
     "output_type": "display_data"
    }
   ],
   "source": [
    "from sklearn.metrics import confusion_matrix,accuracy_score,classification_report\n",
    "\n",
    "# make confusion matrix for each split\n",
    "splits = ['train','valid','test']\n",
    "fig, axes = plt.subplots(nrows=1,ncols=len(splits),figsize=(10, 3), dpi=100)\n",
    "\n",
    "for i,split in enumerate(splits):\n",
    "    \n",
    "    y_true = predictions_3d_df[predictions_3d_df['split']==split]['y'].to_numpy()\n",
    "    y_pred = predictions_3d_df[predictions_3d_df['split']==split]['yhat'].to_numpy()\n",
    "    y_pred = np.round(y_pred) #get to crisp binary class labels from posterior probability\n",
    "\n",
    "    # Computer confusion matrix\n",
    "    cm = confusion_matrix(y_true, y_pred)    \n",
    "    score = accuracy_score(y_true,y_pred) #compute accuracy score\n",
    "    cm_df = pd.DataFrame(cm)\n",
    "    sns.heatmap(cm_df, annot=True, fmt='d',ax = axes[i])\n",
    "    axes[i].set_title(f'Accuracy on {split} is {score:.2f}')\n",
    "    axes[i].set_xlabel('True')\n",
    "    axes[i].set_ylabel('Predicted')\n",
    "\n",
    "plt.show()"
   ]
  },
  {
   "cell_type": "code",
   "execution_count": null,
   "id": "61f5df89-76e3-46a7-8178-3ae6b3c8697b",
   "metadata": {},
   "outputs": [],
   "source": []
  }
 ],
 "metadata": {
  "kernelspec": {
   "display_name": "Python 3 (ipykernel)",
   "language": "python",
   "name": "python3"
  },
  "language_info": {
   "codemirror_mode": {
    "name": "ipython",
    "version": 3
   },
   "file_extension": ".py",
   "mimetype": "text/x-python",
   "name": "python",
   "nbconvert_exporter": "python",
   "pygments_lexer": "ipython3",
   "version": "3.10.6"
  }
 },
 "nbformat": 4,
 "nbformat_minor": 5
}
