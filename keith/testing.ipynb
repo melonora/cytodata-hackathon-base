{
 "cells": [
  {
   "cell_type": "code",
   "execution_count": 1,
   "id": "b2315cbc-8574-4e96-b9aa-18b78fd0ecbf",
   "metadata": {},
   "outputs": [
    {
     "name": "stderr",
     "output_type": "stream",
     "text": [
      "20-Oct-22 00:33:13 - bfio.backends - WARNING  - Java backend is not available. This could be due to a missing dependency (jpype).\n"
     ]
    }
   ],
   "source": [
    "from upath import UPath as Path\n",
    "import pandas as pd\n",
    "import numpy as np\n",
    "import matplotlib.pyplot as plt\n",
    "import seaborn as sns\n",
    "import nbvv\n",
    "\n",
    "from serotiny.io.image import image_loader\n",
    "from cytodata_aics.io_utils import rescale_image"
   ]
  },
  {
   "cell_type": "code",
   "execution_count": 2,
   "id": "050440ca-49f8-4b53-ab07-7f3644f8f072",
   "metadata": {},
   "outputs": [
    {
     "name": "stdout",
     "output_type": "stream",
     "text": [
      "Number of cells: 214037\n",
      "Number of columns: 77\n"
     ]
    }
   ],
   "source": [
    "df = pd.read_parquet(\"s3://allencell-hipsc-cytodata/hackathon_manifest_17oct2022.parquet\")\n",
    "print(f'Number of cells: {len(df)}')\n",
    "print(f'Number of columns: {len(df.columns)}')"
   ]
  },
  {
   "cell_type": "code",
   "execution_count": 3,
   "id": "8acbb73b-f12b-4be9-89c7-47c80bfff8e0",
   "metadata": {},
   "outputs": [
    {
     "name": "stdout",
     "output_type": "stream",
     "text": [
      "Number of cells: 8179\n",
      "Number of columns: 79\n"
     ]
    }
   ],
   "source": [
    "#From Chapter 5\n",
    "#loading library, making path for \n",
    "from serotiny.transforms.dataframe.transforms import split_dataframe\n",
    "Path(\"/home/aicsuser/serotiny_data/\").mkdir(parents=True, exist_ok=True)\n",
    "\n",
    "# Sample n cells per group\n",
    "n = 2000 # number of cells per mitotic class\n",
    "cells_to_include=[]\n",
    "for name, group in df.groupby('cell_stage'):    \n",
    "    sampled_group = group.sample(min([n,len(group)]))\n",
    "    cells_to_include.append(sampled_group)\n",
    "df_mitocells = pd.concat(cells_to_include).reset_index(drop=True)\n",
    "\n",
    "# Discarding all the M6M7_single cells\n",
    "df_mitocells = df_mitocells.drop(df_mitocells[df_mitocells['cell_stage']=='M6M7_single'].index)\n",
    "\n",
    "df_mitocells['cell_stage_encoded'] = pd.factorize(df_mitocells['cell_stage'])[0]\n",
    "\n",
    "# Add the train, test and validate split\n",
    "df_mitocells = split_dataframe(dataframe=df_mitocells, train_frac=0.7, val_frac=0.2, return_splits=False)\n",
    "\n",
    "df_mitocells.to_csv(\"/home/aicsuser/serotiny_data/keith_mitocells.csv\") \n",
    "print(f\"Number of cells: {len(df_mitocells)}\")\n",
    "print(f\"Number of columns: {len(df_mitocells.columns)}\")"
   ]
  },
  {
   "cell_type": "code",
   "execution_count": 4,
   "id": "8015eddf-213d-46c1-97a3-0f356ff808e8",
   "metadata": {},
   "outputs": [
    {
     "name": "stdout",
     "output_type": "stream",
     "text": [
      "['M0' 'M1M2' 'M3' 'M4M5' 'M6M7_complete']\n"
     ]
    }
   ],
   "source": [
    "class_count = df_mitocells[\"cell_stage\"].unique()\n",
    "print(class_count)"
   ]
  },
  {
   "cell_type": "code",
   "execution_count": 5,
   "id": "3e58dba1-4061-4b4d-9a97-137f3e167878",
   "metadata": {},
   "outputs": [
    {
     "name": "stdout",
     "output_type": "stream",
     "text": [
      "  cell_stage  cell_stage_encoded\n",
      "0         M0                   0\n",
      "1         M0                   0\n",
      "2         M0                   0\n",
      "3         M0                   0\n",
      "4         M0                   0\n"
     ]
    }
   ],
   "source": [
    "stages = df_mitocells[['cell_stage', 'cell_stage_encoded']].head()\n",
    "print(stages)"
   ]
  },
  {
   "cell_type": "code",
   "execution_count": 6,
   "id": "324d09e3-66c9-4e2a-b4a1-df9fa1c4d41e",
   "metadata": {},
   "outputs": [
    {
     "data": {
      "image/png": "[encoded data removed]",
      "text/plain": [
       "<Figure size 2000x700 with 1 Axes>"
      ]
     },
     "metadata": {},
     "output_type": "display_data"
    },
    {
     "name": "stdout",
     "output_type": "stream",
     "text": [
      "cell_stage\n",
      "M0               2000\n",
      "M1M2             2000\n",
      "M3                981\n",
      "M4M5             2000\n",
      "M6M7_complete    1198\n",
      "dtype: int64\n"
     ]
    }
   ],
   "source": [
    "# The bar plot again\n",
    "%matplotlib inline\n",
    "plt.style.use('seaborn-v0_8-white')   #print(plt.style.available)\n",
    "# Code from Chapter 4 to make a bar plot\n",
    "table = pd.pivot_table(df_mitocells, index=\"cell_stage\", aggfunc=\"size\")\n",
    "fig, axes = plt.subplots(figsize=(20, 7), dpi=100)\n",
    "table.plot.barh(stacked=True, ax=axes)\n",
    "axes.set_ylabel(None)\n",
    "axes.set_title(\"Structures and Cell Stage\")\n",
    "axes.grid(True, which=\"major\", axis=\"x\")\n",
    "axes.set_axisbelow(True)\n",
    "axes.invert_yaxis()\n",
    "plt.show()\n",
    "print(table)"
   ]
  },
  {
   "cell_type": "code",
   "execution_count": 7,
   "id": "9ee8b3ae-451e-46ba-8041-cee0a1bb4920",
   "metadata": {},
   "outputs": [],
   "source": [
    "# we need the commands we type to be ran from the serotiny project root\n",
    "# (because that's what `serotiny` expects) so we change directories here,\n",
    "# so we can run commands within the notebook\n",
    "import os\n",
    "os.chdir(\"/home/aicsuser/eyeball_express/cytodata-hackathon-base\")"
   ]
  },
  {
   "cell_type": "code",
   "execution_count": 9,
   "id": "e5e435de-d2cc-438b-ad8a-10bd2542c4f2",
   "metadata": {},
   "outputs": [],
   "source": [
    "from datetime import datetime\n",
    "\n",
    "# util to avoid referring to the same run unintentionally\n",
    "now_str = lambda : datetime.now().strftime(\"%Y%m%d_%H%M%S\")"
   ]
  },
  {
   "cell_type": "code",
   "execution_count": 42,
   "id": "ecbc6988-9dc7-4f92-a786-cfa55a1d8bf2",
   "metadata": {},
   "outputs": [
    {
     "name": "stdout",
     "output_type": "stream",
     "text": [
      "keith_bf_dropout2_20221020_050510\n",
      "[2022-10-20 05:05:14,815][pytorch_lightning.utilities.seed][INFO] - Global seed set to 42\n",
      "[2022-10-20 05:05:14,816][serotiny.ml_ops.ml_ops][INFO] - Instantiating datamodule\n",
      "[2022-10-20 05:05:17,263][serotiny.ml_ops.ml_ops][INFO] - Instantiating trainer\n",
      "[2022-10-20 05:05:17,316][pytorch_lightning.utilities.rank_zero][INFO] - GPU available: True, used: True\n",
      "[2022-10-20 05:05:17,316][pytorch_lightning.utilities.rank_zero][INFO] - TPU available: False, using: 0 TPU cores\n",
      "[2022-10-20 05:05:17,316][pytorch_lightning.utilities.rank_zero][INFO] - IPU available: False, using: 0 IPUs\n",
      "[2022-10-20 05:05:17,316][pytorch_lightning.utilities.rank_zero][INFO] - HPU available: False, using: 0 HPUs\n",
      "[2022-10-20 05:05:17,317][serotiny.ml_ops.ml_ops][INFO] - Instantiating model\n",
      "/opt/conda/lib/python3.10/site-packages/torch/nn/modules/lazy.py:178: UserWarning: Lazy modules are a new feature under heavy development so changes to the API or functionality can happen at any moment.\n",
      "  warnings.warn('Lazy modules are a new feature under heavy development '\n",
      "[2022-10-20 05:05:17,360][torch.distributed.nn.jit.instantiator][INFO] - Created a temporary directory at /tmp/tmpvn6_pul9\n",
      "[2022-10-20 05:05:17,360][torch.distributed.nn.jit.instantiator][INFO] - Writing /tmp/tmpvn6_pul9/_remote_module_non_scriptable.py\n",
      "[2022-10-20 05:05:17,375][serotiny.ml_ops.mlflow_utils][INFO] - Validating and processing MLFlow configuration\n",
      "/opt/conda/lib/python3.10/site-packages/serotiny/ml_ops/mlflow_utils.py:156: FutureWarning: ``mlflow.tracking.fluent.list_run_infos`` is deprecated. This method will be removed in a future release. Use ``search_runs()`` instead.\n",
      "  for run_info in mlflow.list_run_infos(experiment_id=experiment_id):\n",
      "/opt/conda/lib/python3.10/site-packages/mlflow/tracking/fluent.py:1599: FutureWarning: ``mlflow.tracking.client.MlflowClient.list_run_infos`` is deprecated. This method will be removed in a future release. Use ``search_runs()`` instead.\n",
      "  return MlflowClient().list_run_infos(\n",
      "[2022-10-20 05:05:17,875][serotiny.ml_ops.mlflow_utils][INFO] - Calling trainer.fit\n",
      "[2022-10-20 05:05:20,395][pytorch_lightning.accelerators.gpu][INFO] - LOCAL_RANK: 0 - CUDA_VISIBLE_DEVICES: [0]\n",
      "/opt/conda/lib/python3.10/site-packages/pytorch_lightning/utilities/model_summary.py:407: UserWarning: A layer with UninitializedParameter was found. Thus, the total number of parameters detected may be inaccurate.\n",
      "  warning_cache.warn(\n",
      "[2022-10-20 05:05:20,397][pytorch_lightning.callbacks.model_summary][INFO] - \n",
      "  | Name    | Type             | Params\n",
      "---------------------------------------------\n",
      "0 | network | Sequential       | 0     \n",
      "1 | loss    | CrossEntropyLoss | 0     \n",
      "---------------------------------------------\n",
      "0         Trainable params\n",
      "0         Non-trainable params\n",
      "0         Total params\n",
      "0.000     Total estimated model params size (MB)\n",
      "Epoch 0:  78%|█████████████████     | 90/116 [04:22<01:15,  2.92s/it, loss=1.21]\n",
      "Epoch 0:  78%|█████████████████     | 90/116 [04:35<01:19,  3.07s/it, loss=1.21]\n",
      "Validation:   0%|                                        | 0/26 [00:00<?, ?it/s]\u001b[A\n",
      "Validation DataLoader 0:   0%|                           | 0/26 [00:00<?, ?it/s]\u001b[A\n",
      "Epoch 0:  78%|█████████████████▎    | 91/116 [04:43<01:17,  3.11s/it, loss=1.21]\u001b[A\n",
      "Validation DataLoader 0:   8%|█▍                 | 2/26 [00:00<00:11,  2.01it/s]\u001b[A\n",
      "Epoch 0:  79%|█████████████████▍    | 92/116 [04:44<01:14,  3.09s/it, loss=1.21]\u001b[A\n",
      "Epoch 0:  80%|█████████████████▋    | 93/116 [04:44<01:10,  3.06s/it, loss=1.21]\u001b[A\n",
      "Epoch 0:  81%|█████████████████▊    | 94/116 [04:44<01:06,  3.02s/it, loss=1.21]\u001b[A\n",
      "Epoch 0:  82%|██████████████████    | 95/116 [04:44<01:02,  2.99s/it, loss=1.21]\u001b[A\n",
      "Epoch 0:  83%|██████████████████▏   | 96/116 [04:44<00:59,  2.96s/it, loss=1.21]\u001b[A\n",
      "Validation DataLoader 0:  27%|█████              | 7/26 [00:18<00:54,  2.85s/it]\u001b[A\n",
      "Epoch 0:  84%|██████████████████▍   | 97/116 [05:01<00:59,  3.11s/it, loss=1.21]\u001b[A\n",
      "Epoch 0:  84%|██████████████████▌   | 98/116 [05:01<00:55,  3.08s/it, loss=1.21]\u001b[A\n",
      "Epoch 0:  85%|██████████████████▊   | 99/116 [05:01<00:51,  3.05s/it, loss=1.21]\u001b[A\n",
      "Epoch 0:  86%|██████████████████   | 100/116 [05:01<00:48,  3.02s/it, loss=1.21]\u001b[A\n",
      "Epoch 0:  87%|██████████████████▎  | 101/116 [05:01<00:44,  2.99s/it, loss=1.21]\u001b[A\n",
      "Validation DataLoader 0:  46%|████████▎         | 12/26 [00:18<00:19,  1.36s/it]\u001b[A\n",
      "Epoch 0:  88%|██████████████████▍  | 102/116 [05:01<00:41,  2.96s/it, loss=1.21]\u001b[A\n",
      "Epoch 0:  88%|██████████████████▍  | 102/116 [05:15<00:43,  3.10s/it, loss=1.21]\u001b[A\n",
      "Validation DataLoader 0:  50%|█████████         | 13/26 [00:33<00:39,  3.07s/it]\u001b[A\n",
      "Epoch 0:  89%|██████████████████▋  | 103/116 [05:16<00:39,  3.07s/it, loss=1.21]\u001b[A\n",
      "Epoch 0:  90%|██████████████████▊  | 104/116 [05:16<00:36,  3.04s/it, loss=1.21]\u001b[A\n",
      "Epoch 0:  91%|███████████████████  | 105/116 [05:16<00:33,  3.01s/it, loss=1.21]\u001b[A\n",
      "Epoch 0:  91%|███████████████████▏ | 106/116 [05:16<00:29,  2.98s/it, loss=1.21]\u001b[A\n",
      "Epoch 0:  92%|███████████████████▎ | 107/116 [05:16<00:26,  2.96s/it, loss=1.21]\u001b[A\n",
      "Validation DataLoader 0:  69%|████████████▍     | 18/26 [00:33<00:12,  1.60s/it]\u001b[A\n",
      "Epoch 0:  93%|███████████████████▌ | 108/116 [05:16<00:23,  2.93s/it, loss=1.21]\u001b[A\n",
      "Epoch 0:  94%|███████████████████▋ | 109/116 [05:32<00:21,  3.05s/it, loss=1.21]\u001b[A\n",
      "Epoch 0:  95%|███████████████████▉ | 110/116 [05:32<00:18,  3.02s/it, loss=1.21]\u001b[A\n",
      "Epoch 0:  96%|████████████████████ | 111/116 [05:32<00:14,  2.99s/it, loss=1.21]\u001b[A\n",
      "Validation DataLoader 0:  85%|███████████████▏  | 22/26 [00:48<00:09,  2.43s/it]\u001b[A\n",
      "Epoch 0:  97%|████████████████████▎| 112/116 [05:32<00:11,  2.97s/it, loss=1.21]\u001b[A\n",
      "Epoch 0:  97%|████████████████████▍| 113/116 [05:32<00:08,  2.94s/it, loss=1.21]\u001b[A\n",
      "Epoch 0:  98%|████████████████████▋| 114/116 [05:32<00:05,  2.91s/it, loss=1.21]\u001b[A\n",
      "Validation DataLoader 0:  96%|█████████████████▎| 25/26 [01:03<00:03,  3.10s/it]\u001b[A\n",
      "Epoch 0:  99%|████████████████████▊| 115/116 [05:46<00:03,  3.01s/it, loss=1.21]\u001b[A\n",
      "Epoch 0: 100%|█████████████████████| 116/116 [05:46<00:00,  2.99s/it, loss=1.21]\u001b[A\n",
      "Epoch 1:  78%|█████████████████     | 90/116 [04:12<01:12,  2.81s/it, loss=1.08]\u001b[A\n",
      "Validation: 0it [00:00, ?it/s]\u001b[A\n",
      "Validation:   0%|                                        | 0/26 [00:00<?, ?it/s]\u001b[A\n",
      "Validation DataLoader 0:   0%|                           | 0/26 [00:00<?, ?it/s]\u001b[A\n",
      "Epoch 1:  78%|█████████████████▎    | 91/116 [04:34<01:15,  3.01s/it, loss=1.08]\u001b[A\n",
      "Validation DataLoader 0:   8%|█▍                 | 2/26 [00:00<00:03,  6.74it/s]\u001b[A\n",
      "Epoch 1:  79%|█████████████████▍    | 92/116 [04:34<01:11,  2.98s/it, loss=1.08]\u001b[A\n",
      "Validation DataLoader 0:  12%|██▏                | 3/26 [00:00<00:03,  6.54it/s]\u001b[A\n",
      "Epoch 1:  80%|█████████████████▋    | 93/116 [04:34<01:07,  2.95s/it, loss=1.08]\u001b[A\n",
      "Validation DataLoader 0:  15%|██▉                | 4/26 [00:00<00:03,  5.64it/s]\u001b[A\n",
      "Epoch 1:  81%|█████████████████▊    | 94/116 [04:34<01:04,  2.92s/it, loss=1.08]\u001b[A\n",
      "Epoch 1:  82%|██████████████████    | 95/116 [04:34<01:00,  2.89s/it, loss=1.08]\u001b[A\n",
      "Epoch 1:  83%|██████████████████▏   | 96/116 [04:34<00:57,  2.86s/it, loss=1.08]\u001b[A\n",
      "Validation DataLoader 0:  27%|█████              | 7/26 [00:19<01:15,  3.96s/it]\u001b[A\n",
      "Epoch 1:  84%|██████████████████▍   | 97/116 [04:53<00:57,  3.03s/it, loss=1.08]\u001b[A\n",
      "Epoch 1:  84%|██████████████████▌   | 98/116 [04:53<00:53,  3.00s/it, loss=1.08]\u001b[A\n",
      "Epoch 1:  85%|██████████████████▊   | 99/116 [04:53<00:50,  2.97s/it, loss=1.08]\u001b[A\n",
      "Epoch 1:  86%|██████████████████   | 100/116 [04:53<00:47,  2.94s/it, loss=1.08]\u001b[A\n",
      "Epoch 1:  87%|██████████████████▎  | 101/116 [04:53<00:43,  2.91s/it, loss=1.08]\u001b[A\n",
      "Validation DataLoader 0:  46%|████████▎         | 12/26 [00:19<00:22,  1.62s/it]\u001b[A\n",
      "Epoch 1:  88%|██████████████████▍  | 102/116 [04:53<00:40,  2.88s/it, loss=1.08]\u001b[A\n",
      "Epoch 1:  89%|██████████████████▋  | 103/116 [05:08<00:38,  2.99s/it, loss=1.08]\u001b[A\n",
      "Epoch 1:  90%|██████████████████▊  | 104/116 [05:08<00:35,  2.97s/it, loss=1.08]\u001b[A\n",
      "Validation DataLoader 0:  58%|██████████▍       | 15/26 [00:34<00:29,  2.72s/it]\u001b[A\n",
      "Epoch 1:  91%|███████████████████  | 105/116 [05:08<00:32,  2.94s/it, loss=1.08]\u001b[A\n",
      "Epoch 1:  91%|███████████████████▏ | 106/116 [05:08<00:29,  2.91s/it, loss=1.08]\u001b[A\n",
      "Epoch 1:  92%|███████████████████▎ | 107/116 [05:08<00:25,  2.88s/it, loss=1.08]\u001b[A\n",
      "Epoch 1:  93%|███████████████████▌ | 108/116 [05:08<00:22,  2.86s/it, loss=1.08]\u001b[A\n",
      "Validation DataLoader 0:  73%|█████████████▏    | 19/26 [00:50<00:22,  3.27s/it]\u001b[A\n",
      "Epoch 1:  94%|███████████████████▋ | 109/116 [05:24<00:20,  2.98s/it, loss=1.08]\u001b[A\n",
      "Epoch 1:  95%|███████████████████▉ | 110/116 [05:24<00:17,  2.95s/it, loss=1.08]\u001b[A\n",
      "Epoch 1:  96%|████████████████████ | 111/116 [05:24<00:14,  2.93s/it, loss=1.08]\u001b[A\n",
      "Epoch 1:  97%|████████████████████▎| 112/116 [05:24<00:11,  2.90s/it, loss=1.08]\u001b[A\n",
      "Epoch 1:  97%|████████████████████▍| 113/116 [05:24<00:08,  2.88s/it, loss=1.08]\u001b[A\n",
      "Validation DataLoader 0:  92%|████████████████▌ | 24/26 [00:50<00:03,  1.93s/it]\u001b[A\n",
      "Epoch 1:  98%|████████████████████▋| 114/116 [05:25<00:05,  2.85s/it, loss=1.08]\u001b[A\n",
      "Epoch 1:  99%|████████████████████▊| 115/116 [05:38<00:02,  2.94s/it, loss=1.08]\u001b[A\n",
      "Epoch 1: 100%|█████████████████████| 116/116 [05:38<00:00,  2.92s/it, loss=1.08]\u001b[A\n",
      "Epoch 2:  78%|████████████████▎    | 90/116 [04:24<01:16,  2.94s/it, loss=0.984]\u001b[A\n",
      "Epoch 2:  78%|████████████████▎    | 90/116 [04:40<01:20,  3.11s/it, loss=0.984]\n",
      "Validation:   0%|                                        | 0/26 [00:00<?, ?it/s]\u001b[A\n",
      "Validation DataLoader 0:   0%|                           | 0/26 [00:00<?, ?it/s]\u001b[A\n",
      "Epoch 2:  78%|████████████████▍    | 91/116 [04:45<01:18,  3.14s/it, loss=0.984]\u001b[A\n",
      "Validation DataLoader 0:   8%|█▍                 | 2/26 [00:01<00:16,  1.49it/s]\u001b[A\n",
      "Epoch 2:  79%|████████████████▋    | 92/116 [04:46<01:14,  3.12s/it, loss=0.984]\u001b[A\n",
      "Epoch 2:  80%|████████████████▊    | 93/116 [04:46<01:10,  3.08s/it, loss=0.984]\u001b[A\n",
      "Epoch 2:  81%|█████████████████    | 94/116 [04:46<01:07,  3.05s/it, loss=0.984]\u001b[A\n",
      "Epoch 2:  82%|█████████████████▏   | 95/116 [04:46<01:03,  3.02s/it, loss=0.984]\u001b[A\n",
      "Epoch 2:  83%|█████████████████▍   | 96/116 [04:46<00:59,  2.99s/it, loss=0.984]\u001b[A\n",
      "Validation DataLoader 0:  27%|█████              | 7/26 [00:19<00:56,  2.99s/it]\u001b[A\n",
      "Epoch 2:  84%|█████████████████▌   | 97/116 [05:05<00:59,  3.14s/it, loss=0.984]\u001b[A\n",
      "Validation DataLoader 0:  31%|█████▊             | 8/26 [00:20<00:46,  2.60s/it]\u001b[A\n",
      "Epoch 2:  84%|█████████████████▋   | 98/116 [05:05<00:56,  3.12s/it, loss=0.984]\u001b[A\n",
      "Epoch 2:  85%|█████████████████▉   | 99/116 [05:05<00:52,  3.09s/it, loss=0.984]\u001b[A\n",
      "Epoch 2:  86%|█████████████████▏  | 100/116 [05:05<00:48,  3.06s/it, loss=0.984]\u001b[A\n",
      "Epoch 2:  87%|█████████████████▍  | 101/116 [05:05<00:45,  3.03s/it, loss=0.984]\u001b[A\n",
      "Epoch 2:  88%|█████████████████▌  | 102/116 [05:05<00:41,  3.00s/it, loss=0.984]\u001b[A\n",
      "Validation DataLoader 0:  50%|█████████         | 13/26 [00:34<00:36,  2.78s/it]\u001b[A\n",
      "Epoch 2:  89%|█████████████████▊  | 103/116 [05:20<00:40,  3.11s/it, loss=0.984]\u001b[A\n",
      "Validation DataLoader 0:  54%|█████████▋        | 14/26 [00:35<00:30,  2.52s/it]\u001b[A\n",
      "Epoch 2:  90%|█████████████████▉  | 104/116 [05:21<00:37,  3.09s/it, loss=0.984]\u001b[A\n",
      "Epoch 2:  91%|██████████████████  | 105/116 [05:21<00:33,  3.06s/it, loss=0.984]\u001b[A\n",
      "Epoch 2:  91%|██████████████████▎ | 106/116 [05:21<00:30,  3.03s/it, loss=0.984]\u001b[A\n",
      "Epoch 2:  92%|██████████████████▍ | 107/116 [05:21<00:27,  3.00s/it, loss=0.984]\u001b[A\n",
      "Epoch 2:  93%|██████████████████▌ | 108/116 [05:21<00:23,  2.98s/it, loss=0.984]\u001b[A\n",
      "Validation DataLoader 0:  73%|█████████████▏    | 19/26 [00:50<00:18,  2.70s/it]\u001b[A\n",
      "Epoch 2:  94%|██████████████████▊ | 109/116 [05:35<00:21,  3.08s/it, loss=0.984]\u001b[A\n",
      "Validation DataLoader 0:  77%|█████████████▊    | 20/26 [00:51<00:15,  2.54s/it]\u001b[A\n",
      "Epoch 2:  95%|██████████████████▉ | 110/116 [05:37<00:18,  3.07s/it, loss=0.984]\u001b[A\n",
      "Epoch 2:  96%|███████████████████▏| 111/116 [05:37<00:15,  3.04s/it, loss=0.984]\u001b[A\n",
      "Epoch 2:  97%|███████████████████▎| 112/116 [05:37<00:12,  3.01s/it, loss=0.984]\u001b[A\n",
      "Epoch 2:  97%|███████████████████▍| 113/116 [05:37<00:08,  2.98s/it, loss=0.984]\u001b[A\n",
      "Epoch 2:  98%|███████████████████▋| 114/116 [05:37<00:05,  2.96s/it, loss=0.984]\u001b[A\n",
      "Validation DataLoader 0:  96%|█████████████████▎| 25/26 [01:05<00:02,  2.61s/it]\u001b[A\n",
      "Epoch 2:  99%|███████████████████▊| 115/116 [05:50<00:03,  3.05s/it, loss=0.984]\u001b[A\n",
      "Epoch 2: 100%|████████████████████| 116/116 [05:50<00:00,  3.02s/it, loss=0.984]\u001b[A\n",
      "Epoch 2: 100%|████████████████████| 116/116 [05:50<00:00,  3.02s/it, loss=0.984]\u001b[A\n",
      "2022/10/20 05:23:02 WARNING mlflow.utils.requirements_utils: Found torch version (1.12.1+cu113) contains a local version label (+cu113). MLflow logged a pip requirement for this package as 'torch==1.12.1' without the local version label to make it installable from PyPI. To specify pip requirements containing local version labels, please use `conda_env` or `pip_requirements`.\n",
      "2022/10/20 05:23:09 WARNING mlflow.utils.requirements_utils: Found torchvision version (0.13.1+cu113) contains a local version label (+cu113). MLflow logged a pip requirement for this package as 'torchvision==0.13.1' without the local version label to make it installable from PyPI. To specify pip requirements containing local version labels, please use `conda_env` or `pip_requirements`.\n",
      "2022/10/20 05:23:09 WARNING mlflow.utils.autologging_utils: MLflow autologging encountered a warning: \"/opt/conda/lib/python3.10/site-packages/_distutils_hack/__init__.py:33: UserWarning: Setuptools is replacing distutils.\"\n"
     ]
    }
   ],
   "source": [
    "run_name = f\"keith_bf_dropout2_{now_str()}\"\n",
    "print(run_name)\n",
    "\n",
    "!serotiny train \\\n",
    "    model=brightfield_classifier_3d \\\n",
    "    data=brightfield_dataloader_3d \\\n",
    "    mlflow.experiment_name=eyeballExpress \\\n",
    "    mlflow.run_name={run_name} \\\n",
    "    trainer.gpus=[0] \\\n",
    "    trainer.max_epochs=3"
   ]
  },
  {
   "cell_type": "code",
   "execution_count": 43,
   "id": "faad9501-d19b-4c40-a35c-2e3c379b824a",
   "metadata": {},
   "outputs": [],
   "source": [
    "import mlflow\n",
    "from serotiny.ml_ops.mlflow_utils import download_artifact"
   ]
  },
  {
   "cell_type": "code",
   "execution_count": 44,
   "id": "1eb41d80-2cf5-4ab2-9da7-2b2f6fd95168",
   "metadata": {},
   "outputs": [
    {
     "name": "stdout",
     "output_type": "stream",
     "text": [
      "keith_bf_dropout2_20221020_050510\n"
     ]
    }
   ],
   "source": [
    "print(run_name)"
   ]
  },
  {
   "cell_type": "code",
   "execution_count": 45,
   "id": "659ec33c-a7d6-4aaf-ae0d-a49e33c2b0bf",
   "metadata": {},
   "outputs": [
    {
     "name": "stdout",
     "output_type": "stream",
     "text": [
      "[2022-10-20 05:24:02,410][pytorch_lightning.utilities.seed][INFO] - Global seed set to 42\n",
      "[2022-10-20 05:24:02,411][serotiny.ml_ops.ml_ops][INFO] - Instantiating datamodule\n",
      "[2022-10-20 05:24:04,892][serotiny.ml_ops.ml_ops][INFO] - Instantiating trainer\n",
      "/opt/conda/lib/python3.10/site-packages/pytorch_lightning/loops/utilities.py:91: PossibleUserWarning: `max_epochs` was not set. Setting it to 1000 epochs. To train without an epoch limit, set `max_epochs=-1`.\n",
      "  rank_zero_warn(\n",
      "[2022-10-20 05:24:04,926][pytorch_lightning.utilities.rank_zero][INFO] - GPU available: True, used: True\n",
      "[2022-10-20 05:24:04,926][pytorch_lightning.utilities.rank_zero][INFO] - TPU available: False, using: 0 TPU cores\n",
      "[2022-10-20 05:24:04,927][pytorch_lightning.utilities.rank_zero][INFO] - IPU available: False, using: 0 IPUs\n",
      "[2022-10-20 05:24:04,927][pytorch_lightning.utilities.rank_zero][INFO] - HPU available: False, using: 0 HPUs\n",
      "[2022-10-20 05:24:04,927][serotiny.ml_ops.ml_ops][INFO] - Instantiating model\n",
      "/opt/conda/lib/python3.10/site-packages/torch/nn/modules/lazy.py:178: UserWarning: Lazy modules are a new feature under heavy development so changes to the API or functionality can happen at any moment.\n",
      "  warnings.warn('Lazy modules are a new feature under heavy development '\n",
      "[2022-10-20 05:24:04,970][torch.distributed.nn.jit.instantiator][INFO] - Created a temporary directory at /tmp/tmp3bdn4mko\n",
      "[2022-10-20 05:24:04,970][torch.distributed.nn.jit.instantiator][INFO] - Writing /tmp/tmp3bdn4mko/_remote_module_non_scriptable.py\n",
      "[2022-10-20 05:24:04,986][serotiny.ml_ops.mlflow_utils][INFO] - Validating and processing MLFlow configuration\n",
      "/opt/conda/lib/python3.10/site-packages/serotiny/ml_ops/mlflow_utils.py:156: FutureWarning: ``mlflow.tracking.fluent.list_run_infos`` is deprecated. This method will be removed in a future release. Use ``search_runs()`` instead.\n",
      "  for run_info in mlflow.list_run_infos(experiment_id=experiment_id):\n",
      "/opt/conda/lib/python3.10/site-packages/mlflow/tracking/fluent.py:1599: FutureWarning: ``mlflow.tracking.client.MlflowClient.list_run_infos`` is deprecated. This method will be removed in a future release. Use ``search_runs()`` instead.\n",
      "  return MlflowClient().list_run_infos(\n",
      "[2022-10-20 05:24:05,838][serotiny.ml_ops.mlflow_utils][INFO] - Calling trainer.predict\n",
      "[2022-10-20 05:24:08,337][pytorch_lightning.accelerators.gpu][INFO] - LOCAL_RANK: 0 - CUDA_VISIBLE_DEVICES: [0]\n",
      "Predicting DataLoader 0: 100%|████████████████| 128/128 [05:53<00:00,  2.76s/it]\n",
      "2022/10/20 05:30:24 WARNING mlflow.utils.requirements_utils: Found torch version (1.12.1+cu113) contains a local version label (+cu113). MLflow logged a pip requirement for this package as 'torch==1.12.1' without the local version label to make it installable from PyPI. To specify pip requirements containing local version labels, please use `conda_env` or `pip_requirements`.\n",
      "2022/10/20 05:30:32 WARNING mlflow.utils.requirements_utils: Found torchvision version (0.13.1+cu113) contains a local version label (+cu113). MLflow logged a pip requirement for this package as 'torchvision==0.13.1' without the local version label to make it installable from PyPI. To specify pip requirements containing local version labels, please use `conda_env` or `pip_requirements`.\n",
      "2022/10/20 05:30:32 WARNING mlflow.utils.autologging_utils: MLflow autologging encountered a warning: \"/opt/conda/lib/python3.10/site-packages/_distutils_hack/__init__.py:33: UserWarning: Setuptools is replacing distutils.\"\n"
     ]
    }
   ],
   "source": [
    "!serotiny predict \\\n",
    "    model=brightfield_classifier_3d \\\n",
    "    data=brightfield_dataloader_3d \\\n",
    "    mlflow.experiment_name=eyeballExpress \\\n",
    "    mlflow.run_name={run_name} \\\n",
    "    trainer.gpus=[0]"
   ]
  },
  {
   "cell_type": "code",
   "execution_count": 50,
   "id": "d3053305-8dd1-474a-929a-cec0293c2cf0",
   "metadata": {},
   "outputs": [
    {
     "name": "stdout",
     "output_type": "stream",
     "text": [
      "[2022-10-20 05:35:15,108][pytorch_lightning.utilities.seed][INFO] - Global seed set to 42\n",
      "[2022-10-20 05:35:15,109][serotiny.ml_ops.ml_ops][INFO] - Instantiating datamodule\n",
      "[2022-10-20 05:35:17,562][serotiny.ml_ops.ml_ops][INFO] - Instantiating trainer\n",
      "/opt/conda/lib/python3.10/site-packages/pytorch_lightning/loops/utilities.py:91: PossibleUserWarning: `max_epochs` was not set. Setting it to 1000 epochs. To train without an epoch limit, set `max_epochs=-1`.\n",
      "  rank_zero_warn(\n",
      "[2022-10-20 05:35:17,619][pytorch_lightning.utilities.rank_zero][INFO] - GPU available: True, used: True\n",
      "[2022-10-20 05:35:17,619][pytorch_lightning.utilities.rank_zero][INFO] - TPU available: False, using: 0 TPU cores\n",
      "[2022-10-20 05:35:17,619][pytorch_lightning.utilities.rank_zero][INFO] - IPU available: False, using: 0 IPUs\n",
      "[2022-10-20 05:35:17,619][pytorch_lightning.utilities.rank_zero][INFO] - HPU available: False, using: 0 HPUs\n",
      "[2022-10-20 05:35:17,619][serotiny.ml_ops.ml_ops][INFO] - Instantiating model\n",
      "/opt/conda/lib/python3.10/site-packages/torch/nn/modules/lazy.py:178: UserWarning: Lazy modules are a new feature under heavy development so changes to the API or functionality can happen at any moment.\n",
      "  warnings.warn('Lazy modules are a new feature under heavy development '\n",
      "[2022-10-20 05:35:17,664][torch.distributed.nn.jit.instantiator][INFO] - Created a temporary directory at /tmp/tmpacr1bpmu\n",
      "[2022-10-20 05:35:17,664][torch.distributed.nn.jit.instantiator][INFO] - Writing /tmp/tmpacr1bpmu/_remote_module_non_scriptable.py\n",
      "[2022-10-20 05:35:17,679][serotiny.ml_ops.mlflow_utils][INFO] - Validating and processing MLFlow configuration\n",
      "/opt/conda/lib/python3.10/site-packages/serotiny/ml_ops/mlflow_utils.py:156: FutureWarning: ``mlflow.tracking.fluent.list_run_infos`` is deprecated. This method will be removed in a future release. Use ``search_runs()`` instead.\n",
      "  for run_info in mlflow.list_run_infos(experiment_id=experiment_id):\n",
      "/opt/conda/lib/python3.10/site-packages/mlflow/tracking/fluent.py:1599: FutureWarning: ``mlflow.tracking.client.MlflowClient.list_run_infos`` is deprecated. This method will be removed in a future release. Use ``search_runs()`` instead.\n",
      "  return MlflowClient().list_run_infos(\n",
      "[2022-10-20 05:35:22,374][serotiny.ml_ops.mlflow_utils][INFO] - Calling trainer.predict\n",
      "[2022-10-20 05:35:24,866][pytorch_lightning.accelerators.gpu][INFO] - LOCAL_RANK: 0 - CUDA_VISIBLE_DEVICES: [0]\n",
      "Predicting DataLoader 0: 100%|████████████████| 128/128 [05:54<00:00,  2.77s/it]\n",
      "2022/10/20 05:41:41 WARNING mlflow.utils.requirements_utils: Found torch version (1.12.1+cu113) contains a local version label (+cu113). MLflow logged a pip requirement for this package as 'torch==1.12.1' without the local version label to make it installable from PyPI. To specify pip requirements containing local version labels, please use `conda_env` or `pip_requirements`.\n",
      "2022/10/20 05:41:49 WARNING mlflow.utils.requirements_utils: Found torchvision version (0.13.1+cu113) contains a local version label (+cu113). MLflow logged a pip requirement for this package as 'torchvision==0.13.1' without the local version label to make it installable from PyPI. To specify pip requirements containing local version labels, please use `conda_env` or `pip_requirements`.\n",
      "2022/10/20 05:41:49 WARNING mlflow.utils.autologging_utils: MLflow autologging encountered a warning: \"/opt/conda/lib/python3.10/site-packages/_distutils_hack/__init__.py:33: UserWarning: Setuptools is replacing distutils.\"\n"
     ]
    }
   ],
   "source": [
    "# don't run\n",
    "!serotiny predict \\\n",
    "    model=brightfield_classifier_3d \\\n",
    "    data=brightfield_dataloader_3d \\\n",
    "    mlflow.experiment_name=cytodata_chapter5 \\\n",
    "    mlflow.run_name={\"keith_bf_test6_20221020_013836\"} \\\n",
    "    trainer.gpus=[0]"
   ]
  },
  {
   "cell_type": "code",
   "execution_count": 51,
   "id": "d47fede6-f12f-40e1-a0f1-7736ae8ebc53",
   "metadata": {},
   "outputs": [
    {
     "name": "stderr",
     "output_type": "stream",
     "text": [
      "/opt/conda/lib/python3.10/site-packages/serotiny/ml_ops/mlflow_utils.py:144: FutureWarning: ``mlflow.tracking.fluent.list_experiments`` is deprecated. This method will be removed in a future release. Use ``search_experiments()`` instead.\n",
      "  for _experiment in mlflow.list_experiments():\n",
      "/opt/conda/lib/python3.10/site-packages/mlflow/tracking/fluent.py:1066: FutureWarning: ``mlflow.tracking.client.MlflowClient.list_experiments`` is deprecated. This method will be removed in a future release. Use ``search_experiments()`` instead.\n",
      "  return MlflowClient().list_experiments(\n",
      "/opt/conda/lib/python3.10/site-packages/serotiny/ml_ops/mlflow_utils.py:156: FutureWarning: ``mlflow.tracking.fluent.list_run_infos`` is deprecated. This method will be removed in a future release. Use ``search_runs()`` instead.\n",
      "  for run_info in mlflow.list_run_infos(experiment_id=experiment_id):\n",
      "/opt/conda/lib/python3.10/site-packages/mlflow/tracking/fluent.py:1599: FutureWarning: ``mlflow.tracking.client.MlflowClient.list_run_infos`` is deprecated. This method will be removed in a future release. Use ``search_runs()`` instead.\n",
      "  return MlflowClient().list_run_infos(\n"
     ]
    }
   ],
   "source": [
    "mlflow.set_tracking_uri(\"http://mlflow.mlflow.svc.cluster.local\")\n",
    "\n",
    "#with download_artifact(\"predictions/model_predictions_multiclass.csv\", experiment_name=\"eyeballExpress\", run_name=run_name) as path:\n",
    "#    predictions_3d_df = pd.read_csv(path)\n",
    "\n",
    "with download_artifact(\"predictions/model_predictions_multiclass.csv\", experiment_name=\"cytodata_chapter5\", run_name=\"keith_bf_test6_20221020_013836\") as path:\n",
    "    predictions_3d_df = pd.read_csv(path)"
   ]
  },
  {
   "cell_type": "code",
   "execution_count": 52,
   "id": "07d8608a-58df-45fb-b295-fda0b9235fa5",
   "metadata": {},
   "outputs": [
    {
     "data": {
      "text/html": [
       "<div>\n",
       "<style scoped>\n",
       "    .dataframe tbody tr th:only-of-type {\n",
       "        vertical-align: middle;\n",
       "    }\n",
       "\n",
       "    .dataframe tbody tr th {\n",
       "        vertical-align: top;\n",
       "    }\n",
       "\n",
       "    .dataframe thead th {\n",
       "        text-align: right;\n",
       "    }\n",
       "</style>\n",
       "<table border=\"1\" class=\"dataframe\">\n",
       "  <thead>\n",
       "    <tr style=\"text-align: right;\">\n",
       "      <th></th>\n",
       "      <th>id</th>\n",
       "      <th>y</th>\n",
       "      <th>yhat</th>\n",
       "      <th>loss</th>\n",
       "      <th>split</th>\n",
       "    </tr>\n",
       "  </thead>\n",
       "  <tbody>\n",
       "    <tr>\n",
       "      <th>0</th>\n",
       "      <td>337329</td>\n",
       "      <td>0</td>\n",
       "      <td>1</td>\n",
       "      <td>0.381658</td>\n",
       "      <td>train</td>\n",
       "    </tr>\n",
       "    <tr>\n",
       "      <th>1</th>\n",
       "      <td>264993</td>\n",
       "      <td>0</td>\n",
       "      <td>0</td>\n",
       "      <td>0.381658</td>\n",
       "      <td>train</td>\n",
       "    </tr>\n",
       "    <tr>\n",
       "      <th>2</th>\n",
       "      <td>316110</td>\n",
       "      <td>0</td>\n",
       "      <td>0</td>\n",
       "      <td>0.381658</td>\n",
       "      <td>valid</td>\n",
       "    </tr>\n",
       "    <tr>\n",
       "      <th>3</th>\n",
       "      <td>973484</td>\n",
       "      <td>0</td>\n",
       "      <td>1</td>\n",
       "      <td>0.381658</td>\n",
       "      <td>train</td>\n",
       "    </tr>\n",
       "    <tr>\n",
       "      <th>4</th>\n",
       "      <td>881280</td>\n",
       "      <td>0</td>\n",
       "      <td>0</td>\n",
       "      <td>0.381658</td>\n",
       "      <td>test</td>\n",
       "    </tr>\n",
       "  </tbody>\n",
       "</table>\n",
       "</div>"
      ],
      "text/plain": [
       "       id  y  yhat      loss  split\n",
       "0  337329  0     1  0.381658  train\n",
       "1  264993  0     0  0.381658  train\n",
       "2  316110  0     0  0.381658  valid\n",
       "3  973484  0     1  0.381658  train\n",
       "4  881280  0     0  0.381658   test"
      ]
     },
     "execution_count": 52,
     "metadata": {},
     "output_type": "execute_result"
    }
   ],
   "source": [
    "predictions_3d_df = predictions_3d_df.merge(df_mitocells[['CellId','split']].rename(columns={'CellId':'id'}), on = 'id')\n",
    "predictions_3d_df.head()"
   ]
  },
  {
   "cell_type": "code",
   "execution_count": 53,
   "id": "4566e7e4-079a-4ddf-ae4b-d87419675c2a",
   "metadata": {},
   "outputs": [
    {
     "data": {
      "image/png": "[encoded data removed]",
      "text/plain": [
       "<Figure size 1000x300 with 6 Axes>"
      ]
     },
     "metadata": {},
     "output_type": "display_data"
    }
   ],
   "source": [
    "from sklearn.metrics import confusion_matrix,accuracy_score,classification_report\n",
    "\n",
    "# make confusion matrix for each split\n",
    "splits = ['train','valid','test']\n",
    "fig, axes = plt.subplots(nrows=1,ncols=len(splits),figsize=(10, 3), dpi=100)\n",
    "\n",
    "for i,split in enumerate(splits):\n",
    "    \n",
    "    y_true = predictions_3d_df[predictions_3d_df['split']==split]['y'].to_numpy()\n",
    "    y_pred = predictions_3d_df[predictions_3d_df['split']==split]['yhat'].to_numpy()\n",
    "    y_pred = np.round(y_pred) #get to crisp binary class labels from posterior probability\n",
    "\n",
    "    # Computer confusion matrix\n",
    "    cm = confusion_matrix(y_true, y_pred)    \n",
    "    score = accuracy_score(y_true,y_pred) #compute accuracy score\n",
    "    cm_df = pd.DataFrame(cm)\n",
    "    sns.heatmap(cm_df, annot=True, fmt='d',ax = axes[i])\n",
    "    axes[i].set_title(f'Accuracy on {split} is {score:.2f}')\n",
    "    axes[i].set_xlabel('True')\n",
    "    axes[i].set_ylabel('Predicted')\n",
    "\n",
    "plt.show()"
   ]
  },
  {
   "cell_type": "code",
   "execution_count": null,
   "id": "61f5df89-76e3-46a7-8178-3ae6b3c8697b",
   "metadata": {},
   "outputs": [],
   "source": []
  }
 ],
 "metadata": {
  "kernelspec": {
   "display_name": "Python 3 (ipykernel)",
   "language": "python",
   "name": "python3"
  },
  "language_info": {
   "codemirror_mode": {
    "name": "ipython",
    "version": 3
   },
   "file_extension": ".py",
   "mimetype": "text/x-python",
   "name": "python",
   "nbconvert_exporter": "python",
   "pygments_lexer": "ipython3",
   "version": "3.10.6"
  }
 },
 "nbformat": 4,
 "nbformat_minor": 5
}
