{
 "cells": [
  {
   "cell_type": "code",
   "execution_count": 1,
   "id": "0b0dee36-9a6b-40ba-a6c9-b946841b0605",
   "metadata": {},
   "outputs": [
    {
     "name": "stdout",
     "output_type": "stream",
     "text": [
      "Collecting ripleyk\n",
      "  Downloading ripleyk-0.0.3-py3-none-any.whl (6.0 kB)\n",
      "Requirement already satisfied: scipy>=1.5.2 in /opt/conda/lib/python3.10/site-packages (from ripleyk) (1.9.1)\n",
      "Requirement already satisfied: numpy>=1.19.2 in /opt/conda/lib/python3.10/site-packages (from ripleyk) (1.23.4)\n",
      "Installing collected packages: ripleyk\n",
      "Successfully installed ripleyk-0.0.3\n"
     ]
    }
   ],
   "source": [
    "!pip install ripleyk"
   ]
  },
  {
   "cell_type": "code",
   "execution_count": 4,
   "id": "7cc21172-12c6-4e82-a68b-43d21420da24",
   "metadata": {},
   "outputs": [],
   "source": [
    "import warnings\n",
    "import pandas as pd\n",
    "import plotly.express as px\n",
    "import numpy as np\n",
    "\n",
    "import matplotlib.pyplot as plt\n",
    "%matplotlib inline\n",
    "from aicsimageprocessing import diagnostic_sheet, read_ome_zarr, rescale_image, imgtoprojection\n",
    "from upath import UPath as Path\n",
    "import warnings\n",
    "from aicsimageio import transforms, AICSImage\n",
    "import nbvv\n",
    "import os\n",
    "import ripleyk"
   ]
  },
  {
   "cell_type": "code",
   "execution_count": null,
   "id": "eddf411c-f9a4-4d20-b79e-02c4df4adbe4",
   "metadata": {},
   "outputs": [],
   "source": []
  }
 ],
 "metadata": {
  "kernelspec": {
   "display_name": "Python 3 (ipykernel)",
   "language": "python",
   "name": "python3"
  },
  "language_info": {
   "codemirror_mode": {
    "name": "ipython",
    "version": 3
   },
   "file_extension": ".py",
   "mimetype": "text/x-python",
   "name": "python",
   "nbconvert_exporter": "python",
   "pygments_lexer": "ipython3",
   "version": "3.10.6"
  }
 },
 "nbformat": 4,
 "nbformat_minor": 5
}
